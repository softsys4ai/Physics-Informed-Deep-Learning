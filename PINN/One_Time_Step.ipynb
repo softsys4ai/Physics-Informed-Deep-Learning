{
  "nbformat": 4,
  "nbformat_minor": 0,
  "metadata": {
    "colab": {
      "name": "Copy of PINN.ipynb",
      "provenance": [],
      "collapsed_sections": []
    },
    "kernelspec": {
      "display_name": "Python 3",
      "name": "python3"
    },
    "accelerator": "GPU"
  },
  "cells": [
    {
      "cell_type": "markdown",
      "metadata": {
        "id": "-3JoBI1McF6Z"
      },
      "source": [
        "# **Dependancy**"
      ]
    },
    {
      "cell_type": "code",
      "metadata": {
        "id": "GbnRKcS0cE8q"
      },
      "source": [
        "import os\n",
        "import datetime\n",
        "\n",
        "import IPython\n",
        "import IPython.display\n",
        "import matplotlib as mpl\n",
        "import matplotlib.pyplot as plt\n",
        "import numpy as np\n",
        "from numpy import genfromtxt\n",
        "import pandas as pd\n",
        "import seaborn as sns\n",
        "import tensorflow as tf\n",
        "import keras.layers \n",
        "\n",
        "from google.colab import files\n",
        "import io\n",
        "\n",
        "import tensorboard\n",
        "from datetime import datetime\n",
        "\n",
        "from mpl_toolkits.mplot3d import Axes3D\n",
        "from sklearn.cluster import KMeans\n",
        "from tensorflow.python.keras.utils.vis_utils import plot_model"
      ],
      "execution_count": 1,
      "outputs": []
    },
    {
      "cell_type": "code",
      "metadata": {
        "id": "zYdMpUCnywut"
      },
      "source": [
        "pip install deepxde"
      ],
      "execution_count": null,
      "outputs": []
    },
    {
      "cell_type": "markdown",
      "metadata": {
        "id": "nQN5w35tbsEu"
      },
      "source": [
        "# **Prepare Data**"
      ]
    },
    {
      "cell_type": "code",
      "metadata": {
        "colab": {
          "base_uri": "https://localhost:8080/"
        },
        "id": "1yCKOpSFvGWb",
        "outputId": "261f52a8-9cf0-40d4-cecc-73d08a85b764"
      },
      "source": [
        "from google.colab import drive\n",
        "drive.mount('/content/drive')"
      ],
      "execution_count": 3,
      "outputs": [
        {
          "output_type": "stream",
          "text": [
            "Mounted at /content/drive\n"
          ],
          "name": "stdout"
        }
      ]
    },
    {
      "cell_type": "code",
      "metadata": {
        "colab": {
          "base_uri": "https://localhost:8080/"
        },
        "id": "B3XsJDS2bRUn",
        "outputId": "6c60ab4f-5810-4dc9-ae52-15f10c334073"
      },
      "source": [
        "# Jumps to the desired directory\n",
        "%cd 'drive/My Drive/Analytical Data'\n",
        "p1 = genfromtxt('T_q100_v200_T25_D100.csv', delimiter=',')\n",
        "times = genfromtxt('time.csv', delimiter=',')\n",
        "times = times.reshape((100,1))\n",
        "times.shape\n",
        "times[0:5]\n",
        "points = p1[:, 1:3]\n",
        "points.shape\n",
        "temps = p1[:, 5:]\n",
        "temps.shape\n",
        "train_number = 1681\n",
        "num_p = 1681\n",
        "# test_number = 10 * 100"
      ],
      "execution_count": 4,
      "outputs": [
        {
          "output_type": "stream",
          "text": [
            "/content/drive/My Drive/Analytical Data\n"
          ],
          "name": "stdout"
        }
      ]
    },
    {
      "cell_type": "code",
      "metadata": {
        "colab": {
          "base_uri": "https://localhost:8080/"
        },
        "id": "cakDUFSFtDQ5",
        "outputId": "3ae31de4-be50-4390-a979-bbabdb07fbd5"
      },
      "source": [
        "temps.shape"
      ],
      "execution_count": 5,
      "outputs": [
        {
          "output_type": "execute_result",
          "data": {
            "text/plain": [
              "(1681, 100)"
            ]
          },
          "metadata": {
            "tags": []
          },
          "execution_count": 5
        }
      ]
    },
    {
      "cell_type": "markdown",
      "metadata": {
        "id": "F_pgSpTSjld9"
      },
      "source": [
        "Re-arranging"
      ]
    },
    {
      "cell_type": "code",
      "metadata": {
        "id": "OxbYq5O_n6EO",
        "colab": {
          "base_uri": "https://localhost:8080/"
        },
        "outputId": "da16d0f5-774d-4129-d726-dfc0fe9246a5"
      },
      "source": [
        "new_points = np.zeros((1681, 3))\n",
        "for i in range(1681):\n",
        "  for j in range(1):\n",
        "    new_points[i + j] = [points[i][0], points[i][1], times[j] * 1000] # y, z, t \n",
        "\n",
        "new_temps = temps[:,0:1]\n",
        "new_temps[0:10]"
      ],
      "execution_count": 6,
      "outputs": [
        {
          "output_type": "execute_result",
          "data": {
            "text/plain": [
              "array([[133.85 ],\n",
              "       [133.19 ],\n",
              "       [131.25 ],\n",
              "       [128.13 ],\n",
              "       [123.99 ],\n",
              "       [119.03 ],\n",
              "       [113.46 ],\n",
              "       [107.51 ],\n",
              "       [101.36 ],\n",
              "       [ 95.204]])"
            ]
          },
          "metadata": {
            "tags": []
          },
          "execution_count": 6
        }
      ]
    },
    {
      "cell_type": "code",
      "metadata": {
        "colab": {
          "base_uri": "https://localhost:8080/"
        },
        "id": "cRNBHcgqtlSa",
        "outputId": "b79f2e27-6091-4544-9725-6b2772e858c3"
      },
      "source": [
        "new_points[0:10]"
      ],
      "execution_count": 9,
      "outputs": [
        {
          "output_type": "execute_result",
          "data": {
            "text/plain": [
              "array([[ 1.    ,  1.    ,  1.0971],\n",
              "       [ 2.    ,  1.    ,  1.0971],\n",
              "       [ 3.    ,  1.    ,  1.0971],\n",
              "       [ 4.    ,  1.    ,  1.0971],\n",
              "       [ 5.    ,  1.    ,  1.0971],\n",
              "       [ 6.    ,  1.    ,  1.0971],\n",
              "       [ 7.    ,  1.    ,  1.0971],\n",
              "       [ 8.    ,  1.    ,  1.0971],\n",
              "       [ 9.    ,  1.    ,  1.0971],\n",
              "       [10.    ,  1.    ,  1.0971]])"
            ]
          },
          "metadata": {
            "tags": []
          },
          "execution_count": 9
        }
      ]
    },
    {
      "cell_type": "markdown",
      "metadata": {
        "id": "pG2fb68tlH-f"
      },
      "source": [
        "**Randomized**"
      ]
    },
    {
      "cell_type": "code",
      "metadata": {
        "id": "RsIDR9ThcoOM"
      },
      "source": [
        " idx = np.random.randint(168100, size=1000)\n",
        " new_points=new_points[idx,:]\n",
        " new_temps = new_temps[idx,:]"
      ],
      "execution_count": null,
      "outputs": []
    },
    {
      "cell_type": "markdown",
      "metadata": {
        "id": "P9_w2UhclLBC"
      },
      "source": [
        "**Non-randomized**"
      ]
    },
    {
      "cell_type": "code",
      "metadata": {
        "id": "sqVqy-HmkwqN"
      },
      "source": [
        "new_points=new_points[0:num_p,:]\r\n",
        "new_temps = new_temps[0:num_p,:]"
      ],
      "execution_count": 10,
      "outputs": []
    },
    {
      "cell_type": "markdown",
      "metadata": {
        "id": "FlBMgd_3qadt"
      },
      "source": [
        "### Now we have an input of size 168100 by 3 and output of size 168100 by 1"
      ]
    },
    {
      "cell_type": "code",
      "metadata": {
        "id": "lkpbv-8yrA_e",
        "colab": {
          "base_uri": "https://localhost:8080/"
        },
        "outputId": "9df8e649-b416-480d-f45d-8e842d81f90c"
      },
      "source": [
        "train_x = new_points[0:train_number]\n",
        "train_y = new_temps[0:train_number]\n",
        "test_x = new_points[train_number:]\n",
        "test_y = new_temps[train_number:]\n",
        "print(train_x.shape)\n",
        "print(train_y.shape)\n",
        "print(test_x.shape)\n",
        "print(test_y.shape)"
      ],
      "execution_count": 11,
      "outputs": [
        {
          "output_type": "stream",
          "text": [
            "(1681, 3)\n",
            "(1681, 1)\n",
            "(0, 3)\n",
            "(0, 1)\n"
          ],
          "name": "stdout"
        }
      ]
    },
    {
      "cell_type": "code",
      "metadata": {
        "id": "KTUf-3sPfG9g"
      },
      "source": [
        "map_dict =  {}\r\n",
        "for i in range(len(train_x)):\r\n",
        "  map_dict[(train_x[i][0], train_x[i][1], train_x[i][2])] = train_y[i]"
      ],
      "execution_count": 12,
      "outputs": []
    },
    {
      "cell_type": "code",
      "metadata": {
        "colab": {
          "base_uri": "https://localhost:8080/"
        },
        "id": "7qswtDgPEugX",
        "outputId": "fb12990b-489a-4e02-96bc-8c158e342d2c"
      },
      "source": [
        "train_x[0:10] # y, z, time"
      ],
      "execution_count": 13,
      "outputs": [
        {
          "output_type": "execute_result",
          "data": {
            "text/plain": [
              "array([[ 1.    ,  1.    ,  1.0971],\n",
              "       [ 2.    ,  1.    ,  1.0971],\n",
              "       [ 3.    ,  1.    ,  1.0971],\n",
              "       [ 4.    ,  1.    ,  1.0971],\n",
              "       [ 5.    ,  1.    ,  1.0971],\n",
              "       [ 6.    ,  1.    ,  1.0971],\n",
              "       [ 7.    ,  1.    ,  1.0971],\n",
              "       [ 8.    ,  1.    ,  1.0971],\n",
              "       [ 9.    ,  1.    ,  1.0971],\n",
              "       [10.    ,  1.    ,  1.0971]])"
            ]
          },
          "metadata": {
            "tags": []
          },
          "execution_count": 13
        }
      ]
    },
    {
      "cell_type": "code",
      "metadata": {
        "colab": {
          "base_uri": "https://localhost:8080/"
        },
        "id": "k5OpRpv30vv2",
        "outputId": "6a8339a5-37b6-4800-c76d-59f84d3737d1"
      },
      "source": [
        "train_y[0:10]"
      ],
      "execution_count": 14,
      "outputs": [
        {
          "output_type": "execute_result",
          "data": {
            "text/plain": [
              "array([[133.85 ],\n",
              "       [133.19 ],\n",
              "       [131.25 ],\n",
              "       [128.13 ],\n",
              "       [123.99 ],\n",
              "       [119.03 ],\n",
              "       [113.46 ],\n",
              "       [107.51 ],\n",
              "       [101.36 ],\n",
              "       [ 95.204]])"
            ]
          },
          "metadata": {
            "tags": []
          },
          "execution_count": 14
        }
      ]
    },
    {
      "cell_type": "markdown",
      "metadata": {
        "id": "8L2uGoinb1KP"
      },
      "source": [
        "# **Model and PINN**"
      ]
    },
    {
      "cell_type": "markdown",
      "metadata": {
        "id": "TJdh1XQVd6aw"
      },
      "source": [
        "**This shows the equation**\n",
        "![equation.PNG](data:image/png;base64,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)"
      ]
    },
    {
      "cell_type": "code",
      "metadata": {
        "id": "leMyltfT7-pN"
      },
      "source": [
        "import deepxde as dde\r\n",
        "dde.geometry.is_rectangle(vertices=[(0, 0), (0, 41), (41, 41), (41, 0)])\r\n",
        "# geom = dde.geometry.Rectangle((0,0), (41,41))\r\n",
        "# geom.is_valid(vertices= [[(0, 0), (0, 41), (41, 41), (41, 0)]])"
      ],
      "execution_count": null,
      "outputs": []
    },
    {
      "cell_type": "code",
      "metadata": {
        "id": "87BNvj5BKd3c"
      },
      "source": [
        "import numbers\r\n",
        "class PointSetBC(object):\r\n",
        "    \"\"\"Dirichlet boundary condition for a set of points.\r\n",
        "    Compare the output (that associates with `points`) with `values` (target data).\r\n",
        "    Args:\r\n",
        "        points: An array of points where the corresponding target values are known and used for training.\r\n",
        "        values: An array of values that gives the exact solution of the problem.\r\n",
        "        component: The output component satisfying this BC.\r\n",
        "    \"\"\"\r\n",
        "\r\n",
        "    def __init__(self, points, values, component=0):\r\n",
        "        self.points = np.array(points)\r\n",
        "        if not isinstance(values, numbers.Number) and values.shape[1] != 1:\r\n",
        "            raise RuntimeError(\r\n",
        "                \"PointSetBC should output 1D values. Use argument 'component' for different components.\"\r\n",
        "            )\r\n",
        "        self.values = values\r\n",
        "        self.component = component\r\n",
        "\r\n",
        "    def collocation_points(self, X):\r\n",
        "        return self.points\r\n",
        "\r\n",
        "    def error(self, X, inputs, outputs, beg, end):\r\n",
        "        return outputs[beg:end, self.component : self.component + 1] - self.values"
      ],
      "execution_count": null,
      "outputs": []
    },
    {
      "cell_type": "code",
      "metadata": {
        "id": "K-zYIlwY5qqO",
        "colab": {
          "base_uri": "https://localhost:8080/"
        },
        "outputId": "5f8b4163-ca7d-48f3-b388-fe71da552406"
      },
      "source": [
        "from __future__ import absolute_import\n",
        "from __future__ import division\n",
        "from __future__ import print_function\n",
        "\n",
        "import numpy as np\n",
        "\n",
        "import deepxde as dde\n",
        "from deepxde.backend import tf\n",
        "\n",
        "# power = 100, speed = 200\n",
        "# y(the input to the function) represents T(temperature) here.\n",
        "# dT_t = D * (dT_yy + dT_zz)\n",
        "def pde(x, y):\n",
        "  dy_x = tf.gradients(y, x)[0]\n",
        "  dy_x1, dy_x2, dy_t = dy_x[:, 0:1], dy_x[:, 1:2], dy_x[:, 2:]\n",
        "  dy_x1x1 = tf.gradients(dy_x1, x)[0][:, 0:1]\n",
        "  dy_x2x2 = tf.gradients(dy_x2, x)[0][:, 1:2]\n",
        "  return (\n",
        "  dy_t - (dy_x1x1 - dy_x2x2)\n",
        "  # + tf.exp(-x[:, 2:]) * (tf.sin(np.pi * (x[:, 0:1] + x[:, 1:2])))\n",
        "  # - tf.exp(-x[:, 2:]) * (2 * np.pi ** 2 * tf.sin(np.pi * (x[:, 0:1] + x[:, 1:2])))\n",
        "  )\n",
        "\n",
        "# x=np.zeros((NumData,1))\n",
        "# xd=np.zeros((NumData,1))\n",
        "# xdd=np.zeros((NumData,1))\n",
        "# Fe=np.zeros((NumData,1))\n",
        "\n",
        "# for i in range(NumData-1):\n",
        "    \n",
        "#     if i==0:\n",
        "#         x[i-1]=xm1\n",
        "#         x[i]=x0\n",
        "#     Fe[i]=Force[i]-(K-a2*M)*x[i]-(a0*M-a1*C)*x[i-1]\n",
        "    \n",
        "#     x[i+1]=Fe[i]/Ke\n",
        "#     xd[i]=a1*(-x[i-1]-x[i+1])\n",
        "#     xdd[i]=a0*(x[i-1]-2*x[i]+x[i+1])\n",
        "\n",
        "def func(x):\n",
        "  return np.full((len(x), 1), 10e-2)\n",
        "\n",
        "def funcic(x): return np.full((len(x), 1), 25)\n",
        "\n",
        "def funcbc(x):  # x = the collection of the points on the boundary \n",
        "  result = np.zeros((len(x), 1))\n",
        "  for i in range(len(x)):\n",
        "    result[i] = map_dict[(x[i][0], x[i][1], x[i][2])]  # 0: y, 1: z, 2 : time\n",
        "  return result\n",
        "\n",
        "def solution(x) : return train_y\n",
        "\n",
        "geom = dde.geometry.geometry_2d.Rectangle((1,1), (41,41))\n",
        "timedomain = dde.geometry.TimeDomain(0, 1)\n",
        "geomtime = dde.geometry.GeometryXTime(geom, timedomain)\n",
        "\n",
        "bc = dde.DirichletBC(geomtime, funcbc, lambda _, on_boundary: on_boundary)\n",
        "# bc = PointSetBC(train_x, train_y)\n",
        "# bc = dde.boundary_conditions.OperatorBC(geomtime, funcbc, lambda _, on_boundary: on_boundary)\n",
        "ic = dde.IC(geomtime, funcic, lambda _, on_initial: on_initial)\n",
        "\n",
        "data = dde.data.TimePDE(\n",
        "    geomtime,\n",
        "    pde,\n",
        "    [bc, ic],\n",
        "    anchors = train_x,\n",
        "    solution = solution\n",
        ")\n",
        "\n",
        "\n",
        "layer_size = [3] + [32] * 3 + [1]\n",
        "activation = \"tanh\"\n",
        "initializer = \"Glorot uniform\"\n",
        "net = dde.maps.FNN(layer_size, activation, initializer)\n",
        "\n",
        "\n",
        "model = dde.Model(data, net)\n",
        "\n",
        "callback = dde.callbacks.EarlyStopping(min_delta=0.001, patience=10000)\n",
        "\n",
        "model.compile(\"adam\", lr=0.001,metrics=[\"l2 relative error\"])\n",
        "\n",
        "losshistory, train_state = model.train(epochs=30000, callbacks = [callback])\n",
        "\n",
        "#dde.saveplot(losshistory, train_state, issave=False, isplot=True)"
      ],
      "execution_count": 18,
      "outputs": [
        {
          "output_type": "stream",
          "text": [
            "Compiling model...\n",
            "Building feed-forward neural network...\n",
            "'build' took 0.066554 s\n",
            "\n"
          ],
          "name": "stdout"
        },
        {
          "output_type": "stream",
          "text": [
            "/usr/local/lib/python3.6/dist-packages/tensorflow/python/keras/legacy_tf_layers/core.py:171: UserWarning: `tf.layers.dense` is deprecated and will be removed in a future version. Please use `tf.keras.layers.Dense` instead.\n",
            "  warnings.warn('`tf.layers.dense` is deprecated and '\n",
            "/usr/local/lib/python3.6/dist-packages/tensorflow/python/keras/engine/base_layer_v1.py:1719: UserWarning: `layer.apply` is deprecated and will be removed in a future version. Please use `layer.__call__` method instead.\n",
            "  warnings.warn('`layer.apply` is deprecated and '\n"
          ],
          "name": "stderr"
        },
        {
          "output_type": "stream",
          "text": [
            "'compile' took 0.822943 s\n",
            "\n",
            "Initializing variables...\n",
            "Training model...\n",
            "\n",
            "Step      Train loss                        Test loss                         Test metric   \n",
            "0         [1.37e-03, 2.69e+03, nan]         [1.37e-03, 0.00e+00, 0.00e+00]    [9.94e-01]    \n",
            "1000      [1.15e-08, 9.75e+02, nan]         [1.15e-08, 0.00e+00, 0.00e+00]    [4.77e-01]    \n",
            "2000      [2.26e-09, 8.67e+02, nan]         [2.26e-09, 0.00e+00, 0.00e+00]    [4.65e-01]    \n",
            "3000      [1.25e-09, 8.66e+02, nan]         [1.25e-09, 0.00e+00, 0.00e+00]    [4.70e-01]    \n",
            "4000      [1.37e-09, 8.66e+02, nan]         [1.37e-09, 0.00e+00, 0.00e+00]    [4.71e-01]    \n",
            "5000      [5.43e-02, 8.46e+02, nan]         [5.43e-02, 0.00e+00, 0.00e+00]    [4.56e-01]    \n",
            "6000      [1.42e-02, 1.16e+02, nan]         [1.42e-02, 0.00e+00, 0.00e+00]    [1.89e-01]    \n",
            "7000      [2.58e-02, 3.13e+01, nan]         [2.58e-02, 0.00e+00, 0.00e+00]    [1.59e-01]    \n",
            "8000      [1.52e-02, 7.87e+00, nan]         [1.52e-02, 0.00e+00, 0.00e+00]    [1.50e-01]    \n",
            "9000      [7.81e-03, 1.73e+00, nan]         [7.81e-03, 0.00e+00, 0.00e+00]    [1.52e-01]    \n",
            "10000     [4.98e-03, 3.15e-01, nan]         [4.98e-03, 0.00e+00, 0.00e+00]    [1.40e-01]    \n",
            "Epoch 10000: early stopping\n",
            "\n",
            "Best model at step 0:\n",
            "  train loss: inf\n",
            "  test loss: inf\n",
            "  test metric: \n",
            "\n",
            "'train' took 57.450568 s\n",
            "\n"
          ],
          "name": "stdout"
        }
      ]
    },
    {
      "cell_type": "markdown",
      "metadata": {
        "id": "5rXsv_x_yEEf"
      },
      "source": [
        "**Finding Boundary**"
      ]
    },
    {
      "cell_type": "code",
      "metadata": {
        "id": "3lUdRCVbwcwA"
      },
      "source": [
        "import deepxde as dde\r\n",
        "def func(x):\r\n",
        "  return np.full((len(x), 1), 10e-2)\r\n",
        "geom = dde.geometry.geometry_2d.Rectangle((1,1), (41,41))\r\n",
        "#geom = dde.geometry.geometry_2d.Polygon([(0, 0), (0, 40), (41, 41), (41, 0)])\r\n",
        "timedomain = dde.geometry.TimeDomain(0, 0.01) \r\n",
        "geomtime = dde.geometry.GeometryXTime(geom, timedomain)\r\n",
        "# bc = PointSetBC(train_x, train_y)\r\n",
        "bc = dde.DirichletBC(geomtime, funcbc, lambda _, on_boundary: on_boundary)\r\n",
        "# bc = dde.boundary_conditions.PointSet(train_x)"
      ],
      "execution_count": 23,
      "outputs": []
    },
    {
      "cell_type": "code",
      "metadata": {
        "id": "Cnvc-87Mr80c"
      },
      "source": [
        "boundary = bc.collocation_points(train_x)\r\n",
        "temps_on_boundary = np.zeros((len(boundary), 1))\r\n",
        "for i in range(len(boundary)):\r\n",
        "  temps_on_boundary[i] = map_dict[(boundary[i][0], boundary[i][1], boundary[i][2])] \r\n",
        "all_boundary = np.concatenate((boundary, temps_on_boundary), axis = 1)"
      ],
      "execution_count": 24,
      "outputs": []
    },
    {
      "cell_type": "markdown",
      "metadata": {
        "id": "iGvxQtEex7WD"
      },
      "source": [
        "**Plotting Boundary**"
      ]
    },
    {
      "cell_type": "code",
      "metadata": {
        "id": "A7lIO0DMSydX",
        "colab": {
          "base_uri": "https://localhost:8080/"
        },
        "outputId": "25d7e725-fec3-4f98-cfff-728eac89b2b7"
      },
      "source": [
        "all_boundary.shape"
      ],
      "execution_count": null,
      "outputs": [
        {
          "output_type": "execute_result",
          "data": {
            "text/plain": [
              "(103, 4)"
            ]
          },
          "metadata": {
            "tags": []
          },
          "execution_count": 20
        }
      ]
    },
    {
      "cell_type": "code",
      "metadata": {
        "colab": {
          "base_uri": "https://localhost:8080/",
          "height": 283
        },
        "id": "UQZA1lY0xMc-",
        "outputId": "c9fc91ca-6489-414f-e5ee-eef30d1a537b"
      },
      "source": [
        "import matplotlib.pyplot as plt\r\n",
        "plt.scatter(all_boundary[:,0], all_boundary[:,1]) "
      ],
      "execution_count": 25,
      "outputs": [
        {
          "output_type": "execute_result",
          "data": {
            "text/plain": [
              "<matplotlib.collections.PathCollection at 0x7f3cb3aef3c8>"
            ]
          },
          "metadata": {
            "tags": []
          },
          "execution_count": 25
        },
        {
          "output_type": "display_data",
          "data": {
            "image/png": "[encoded data removed]",
            "text/plain": [
              "<Figure size 432x288 with 1 Axes>"
            ]
          },
          "metadata": {
            "tags": [],
            "needs_background": "light"
          }
        }
      ]
    },
    {
      "cell_type": "code",
      "metadata": {
        "colab": {
          "base_uri": "https://localhost:8080/"
        },
        "id": "rHZnyNJvEsWS",
        "outputId": "d4de34a0-c7bc-4493-bfe8-792ff33299fc"
      },
      "source": [
        "pred_y = model.predict(train_x)"
      ],
      "execution_count": 19,
      "outputs": [
        {
          "output_type": "stream",
          "text": [
            "Predicting...\n",
            "'predict' took 0.035659 s\n",
            "\n"
          ],
          "name": "stdout"
        }
      ]
    },
    {
      "cell_type": "code",
      "metadata": {
        "colab": {
          "base_uri": "https://localhost:8080/"
        },
        "id": "RMJOypHUx9Bl",
        "outputId": "cbaef362-8147-4c41-fd63-123511de6551"
      },
      "source": [
        "train_x[0:10]"
      ],
      "execution_count": 20,
      "outputs": [
        {
          "output_type": "execute_result",
          "data": {
            "text/plain": [
              "array([[ 1.    ,  1.    ,  1.0971],\n",
              "       [ 2.    ,  1.    ,  1.0971],\n",
              "       [ 3.    ,  1.    ,  1.0971],\n",
              "       [ 4.    ,  1.    ,  1.0971],\n",
              "       [ 5.    ,  1.    ,  1.0971],\n",
              "       [ 6.    ,  1.    ,  1.0971],\n",
              "       [ 7.    ,  1.    ,  1.0971],\n",
              "       [ 8.    ,  1.    ,  1.0971],\n",
              "       [ 9.    ,  1.    ,  1.0971],\n",
              "       [10.    ,  1.    ,  1.0971]])"
            ]
          },
          "metadata": {
            "tags": []
          },
          "execution_count": 20
        }
      ]
    },
    {
      "cell_type": "code",
      "metadata": {
        "colab": {
          "base_uri": "https://localhost:8080/"
        },
        "id": "vtjaDRm0J7sz",
        "outputId": "8fc455c3-316d-4832-8bbb-beef7b183a7f"
      },
      "source": [
        " print(train_y[0:10]) #/ np.linalg.norm(test_y[0:10])\r\n",
        " print(np.mean(train_y[0:10]))"
      ],
      "execution_count": 21,
      "outputs": [
        {
          "output_type": "stream",
          "text": [
            "[[133.85 ]\n",
            " [133.19 ]\n",
            " [131.25 ]\n",
            " [128.13 ]\n",
            " [123.99 ]\n",
            " [119.03 ]\n",
            " [113.46 ]\n",
            " [107.51 ]\n",
            " [101.36 ]\n",
            " [ 95.204]]\n",
            "118.69739999999999\n"
          ],
          "name": "stdout"
        }
      ]
    },
    {
      "cell_type": "code",
      "metadata": {
        "colab": {
          "base_uri": "https://localhost:8080/"
        },
        "id": "IfWrdVvYJt7w",
        "outputId": "4cdc0214-128b-457d-e65c-fb60f1289878"
      },
      "source": [
        "pred_y[0:10]"
      ],
      "execution_count": 22,
      "outputs": [
        {
          "output_type": "execute_result",
          "data": {
            "text/plain": [
              "array([[129.04106 ],\n",
              "       [129.03746 ],\n",
              "       [128.96046 ],\n",
              "       [127.72884 ],\n",
              "       [124.11156 ],\n",
              "       [119.12802 ],\n",
              "       [113.456314],\n",
              "       [107.53181 ],\n",
              "       [101.335106],\n",
              "       [ 95.183624]], dtype=float32)"
            ]
          },
          "metadata": {
            "tags": []
          },
          "execution_count": 22
        }
      ]
    },
    {
      "cell_type": "code",
      "metadata": {
        "colab": {
          "base_uri": "https://localhost:8080/",
          "height": 265
        },
        "id": "MeBbO_1Cvdy0",
        "outputId": "6b822a73-0f77-4180-95a9-1ff3092057f4"
      },
      "source": [
        "axis = [i for i in range(41)]\r\n",
        "# plt.plot(train_y)\r\n",
        "fig, ax = plt.subplots()\r\n",
        "ax.plot(axis, train_y[0:41])\r\n",
        "ax.plot(axis, pred_y[0:41])\r\n",
        "plt.grid()"
      ],
      "execution_count": 30,
      "outputs": [
        {
          "output_type": "display_data",
          "data": {
            "image/png": "[encoded data removed]",
            "text/plain": [
              "<Figure size 432x288 with 1 Axes>"
            ]
          },
          "metadata": {
            "tags": [],
            "needs_background": "light"
          }
        }
      ]
    },
    {
      "cell_type": "code",
      "metadata": {
        "colab": {
          "base_uri": "https://localhost:8080/"
        },
        "id": "eYcRAukkEzox",
        "outputId": "b7664e65-efb0-4c5e-97c4-965cac5eaca1"
      },
      "source": [
        "dde.metrics.l2_relative_error(test_y/ np.linalg.norm(test_y), pred_y)"
      ],
      "execution_count": null,
      "outputs": [
        {
          "output_type": "execute_result",
          "data": {
            "text/plain": [
              "1.0597508182205848"
            ]
          },
          "metadata": {
            "tags": []
          },
          "execution_count": 40
        }
      ]
    },
    {
      "cell_type": "code",
      "metadata": {
        "colab": {
          "base_uri": "https://localhost:8080/"
        },
        "id": "MrJx0EbF6GEf",
        "outputId": "172ffd76-3d70-4dc5-bb10-7c1aa375623a"
      },
      "source": [
        "data.train_x.shape#x, t"
      ],
      "execution_count": null,
      "outputs": [
        {
          "output_type": "execute_result",
          "data": {
            "text/plain": [
              "(9000, 3)"
            ]
          },
          "metadata": {
            "tags": []
          },
          "execution_count": 25
        }
      ]
    },
    {
      "cell_type": "code",
      "metadata": {
        "colab": {
          "base_uri": "https://localhost:8080/"
        },
        "id": "czHaqbdj61Ht",
        "outputId": "da6db1e8-2e2c-425b-d442-d6598b6cbb5f"
      },
      "source": [
        "data.test_x.shape# u"
      ],
      "execution_count": null,
      "outputs": [
        {
          "output_type": "execute_result",
          "data": {
            "text/plain": [
              "(1152, 3)"
            ]
          },
          "metadata": {
            "tags": []
          },
          "execution_count": 27
        }
      ]
    },
    {
      "cell_type": "code",
      "metadata": {
        "colab": {
          "base_uri": "https://localhost:8080/"
        },
        "id": "irQTpxvqcSEP",
        "outputId": "985fa672-da33-4cdb-af72-136b6f00e8a6"
      },
      "source": [
        "predictions = model.predict(train_x)"
      ],
      "execution_count": null,
      "outputs": [
        {
          "output_type": "stream",
          "text": [
            "Predicting...\n",
            "'predict' took 0.070050 s\n",
            "\n"
          ],
          "name": "stdout"
        }
      ]
    },
    {
      "cell_type": "code",
      "metadata": {
        "colab": {
          "base_uri": "https://localhost:8080/"
        },
        "id": "nGLiWcz3cucz",
        "outputId": "78a7fa8e-e844-4320-8fee-5b20c4653b52"
      },
      "source": [
        "predictions.shape"
      ],
      "execution_count": null,
      "outputs": [
        {
          "output_type": "execute_result",
          "data": {
            "text/plain": [
              "(134500, 1)"
            ]
          },
          "metadata": {
            "tags": []
          },
          "execution_count": 21
        }
      ]
    },
    {
      "cell_type": "code",
      "metadata": {
        "colab": {
          "base_uri": "https://localhost:8080/"
        },
        "id": "blL6GEMcjGCl",
        "outputId": "d2a2bcc0-e26a-46d9-f032-4b66d997a727"
      },
      "source": [
        "predictions[101:106]"
      ],
      "execution_count": null,
      "outputs": [
        {
          "output_type": "execute_result",
          "data": {
            "text/plain": [
              "array([[-0.16441411],\n",
              "       [-0.16441411],\n",
              "       [-0.16441375],\n",
              "       [-0.16441375],\n",
              "       [-0.1644139 ]], dtype=float32)"
            ]
          },
          "metadata": {
            "tags": []
          },
          "execution_count": 22
        }
      ]
    },
    {
      "cell_type": "markdown",
      "metadata": {
        "id": "uFhPnyVZB2gt"
      },
      "source": [
        "# **Plotting**"
      ]
    },
    {
      "cell_type": "code",
      "metadata": {
        "colab": {
          "base_uri": "https://localhost:8080/",
          "height": 283
        },
        "id": "V6DFBZiwc2xc",
        "outputId": "6f078ac0-3f61-499c-a70c-cf70691f26db"
      },
      "source": [
        "point_number = 100\n",
        "predicted_temps = predictions[(point_number-1) * 100 : point_number * 100]\n",
        "real_temps = test_y[(point_number-1) * 100 : point_number * 100]\n",
        "fig, ax = plt.subplots()\n",
        "ax.plot(times, real_temps)\n",
        "ax.plot(times, predicted_temps)\n",
        "plt.grid()\n",
        "print(tf.keras.losses.MSE(temps[point_number], predictions[point_number]))"
      ],
      "execution_count": null,
      "outputs": [
        {
          "output_type": "stream",
          "text": [
            "Tensor(\"Mean_2:0\", shape=(), dtype=float32)\n"
          ],
          "name": "stdout"
        },
        {
          "output_type": "display_data",
          "data": {
            "image/png": "[encoded data removed]",
            "text/plain": [
              "<Figure size 432x288 with 1 Axes>"
            ]
          },
          "metadata": {
            "tags": []
          }
        }
      ]
    }
  ]
}