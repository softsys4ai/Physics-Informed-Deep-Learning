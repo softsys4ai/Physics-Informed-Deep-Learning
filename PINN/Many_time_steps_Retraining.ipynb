{
  "nbformat": 4,
  "nbformat_minor": 0,
  "metadata": {
    "colab": {
      "name": "Many_time_steps-Retraining.ipynb",
      "provenance": [],
      "collapsed_sections": []
    },
    "kernelspec": {
      "display_name": "Python 3",
      "name": "python3"
    },
    "accelerator": "GPU"
  },
  "cells": [
    {
      "cell_type": "markdown",
      "metadata": {
        "id": "-3JoBI1McF6Z"
      },
      "source": [
        "# **Dependancy**"
      ]
    },
    {
      "cell_type": "code",
      "metadata": {
        "id": "zYdMpUCnywut"
      },
      "source": [
        "pip install deepxde"
      ],
      "execution_count": null,
      "outputs": []
    },
    {
      "cell_type": "code",
      "metadata": {
        "id": "GbnRKcS0cE8q",
        "colab": {
          "base_uri": "https://localhost:8080/"
        },
        "outputId": "9e24c75d-5323-4279-e753-522522bbdfe6"
      },
      "source": [
        "import os\n",
        "import datetime\n",
        "\n",
        "import IPython\n",
        "import IPython.display\n",
        "import matplotlib as mpl\n",
        "import matplotlib.pyplot as plt\n",
        "import numpy as np\n",
        "from numpy import genfromtxt\n",
        "import pandas as pd\n",
        "import seaborn as sns\n",
        "import tensorflow as tf\n",
        "import keras.layers \n",
        "\n",
        "from google.colab import files\n",
        "import io\n",
        "\n",
        "import tensorboard\n",
        "from datetime import datetime\n",
        "\n",
        "from __future__ import absolute_import\n",
        "from __future__ import division\n",
        "from __future__ import print_function\n",
        "\n",
        "import numpy as np\n",
        "\n",
        "import deepxde as dde\n",
        "from deepxde.backend import tf\n",
        "\n",
        "from mpl_toolkits.mplot3d import Axes3D\n",
        "from sklearn.cluster import KMeans\n",
        "from tensorflow.python.keras.utils.vis_utils import plot_model"
      ],
      "execution_count": null,
      "outputs": [
        {
          "output_type": "stream",
          "text": [
            "Using TensorFlow 2 backend.\n",
            "\n",
            "WARNING:tensorflow:From /usr/local/lib/python3.7/dist-packages/tensorflow/python/compat/v2_compat.py:96: disable_resource_variables (from tensorflow.python.ops.variable_scope) is deprecated and will be removed in a future version.\n",
            "Instructions for updating:\n",
            "non-resource variables are not supported in the long term\n"
          ],
          "name": "stdout"
        }
      ]
    },
    {
      "cell_type": "markdown",
      "metadata": {
        "id": "nQN5w35tbsEu"
      },
      "source": [
        "# **Prepare Data**"
      ]
    },
    {
      "cell_type": "code",
      "metadata": {
        "colab": {
          "base_uri": "https://localhost:8080/"
        },
        "id": "1yCKOpSFvGWb",
        "outputId": "52c24b0b-98d0-46c6-d73a-bf5df5139103"
      },
      "source": [
        "from google.colab import drive\n",
        "drive.mount('/content/drive')"
      ],
      "execution_count": null,
      "outputs": [
        {
          "output_type": "stream",
          "text": [
            "Mounted at /content/drive\n"
          ],
          "name": "stdout"
        }
      ]
    },
    {
      "cell_type": "code",
      "metadata": {
        "colab": {
          "base_uri": "https://localhost:8080/"
        },
        "id": "B3XsJDS2bRUn",
        "outputId": "1cc9bb5f-bd29-4ef8-df25-6e128e0619e2"
      },
      "source": [
        "# Jumps to the desired directory\n",
        "%cd 'drive/My Drive/Analytical Data'\n",
        "p1 = genfromtxt('T_q100_v200_T25_D100.csv', delimiter=',')\n",
        "times = genfromtxt('time.csv', delimiter=',')\n",
        "times = times.reshape((100,1))\n",
        "times.shape\n",
        "times[0:5]\n",
        "points = p1[:, 1:3]\n",
        "points.shape\n",
        "temps = p1[:, 5:]\n",
        "temps.shape\n",
        "train_number = 1681\n",
        "num_p = 1681\n",
        "# test_number = 10 * 100"
      ],
      "execution_count": null,
      "outputs": [
        {
          "output_type": "stream",
          "text": [
            "/content/drive/My Drive/Analytical Data\n"
          ],
          "name": "stdout"
        }
      ]
    },
    {
      "cell_type": "markdown",
      "metadata": {
        "id": "F_pgSpTSjld9"
      },
      "source": [
        "Re-arranging"
      ]
    },
    {
      "cell_type": "code",
      "metadata": {
        "id": "OxbYq5O_n6EO",
        "colab": {
          "base_uri": "https://localhost:8080/"
        },
        "outputId": "49bd78a4-faa2-4340-93c4-362329e86148"
      },
      "source": [
        "all_ = []\n",
        "\n",
        "for j in range(100):\n",
        "  new_points = np.zeros((1681, 3))\n",
        "  for i in range(1681):\n",
        "      new_points[i] = [points[i][0], points[i][1], times[j] * 1000] # y, z, t \n",
        "  all_.append(new_points)\n",
        "\n",
        "new_temps = temps[:,:]\n",
        "new_temps.shape"
      ],
      "execution_count": null,
      "outputs": [
        {
          "output_type": "execute_result",
          "data": {
            "text/plain": [
              "(1681, 100)"
            ]
          },
          "metadata": {
            "tags": []
          },
          "execution_count": 5
        }
      ]
    },
    {
      "cell_type": "markdown",
      "metadata": {
        "id": "P9_w2UhclLBC"
      },
      "source": [
        "**Non-randomized**"
      ]
    },
    {
      "cell_type": "code",
      "metadata": {
        "id": "sqVqy-HmkwqN"
      },
      "source": [
        "new_points=new_points[0:num_p,:]\r\n",
        "new_temps = new_temps[0:num_p,:]"
      ],
      "execution_count": null,
      "outputs": []
    },
    {
      "cell_type": "markdown",
      "metadata": {
        "id": "FlBMgd_3qadt"
      },
      "source": [
        "### Now we have an input of size 168100 by 3 and output of size 168100 by 1"
      ]
    },
    {
      "cell_type": "code",
      "metadata": {
        "id": "lkpbv-8yrA_e",
        "colab": {
          "base_uri": "https://localhost:8080/"
        },
        "outputId": "c3a24f4b-61cc-4348-8575-9284f3e49ab2"
      },
      "source": [
        "train_x = new_points[0:train_number]\n",
        "train_y = new_temps[0:train_number]\n",
        "test_x = new_points[train_number:]\n",
        "test_y = new_temps[train_number:]\n",
        "print(train_x.shape)\n",
        "print(train_y.shape)\n",
        "print(test_x.shape)\n",
        "print(test_y.shape)"
      ],
      "execution_count": null,
      "outputs": [
        {
          "output_type": "stream",
          "text": [
            "(1681, 3)\n",
            "(1681, 100)\n",
            "(0, 3)\n",
            "(0, 100)\n"
          ],
          "name": "stdout"
        }
      ]
    },
    {
      "cell_type": "markdown",
      "metadata": {
        "id": "8L2uGoinb1KP"
      },
      "source": [
        "# **Model and PINN**"
      ]
    },
    {
      "cell_type": "markdown",
      "metadata": {
        "id": "aX4cNb4K6opY"
      },
      "source": [
        "**Checking the path**"
      ]
    },
    {
      "cell_type": "code",
      "metadata": {
        "colab": {
          "base_uri": "https://localhost:8080/"
        },
        "id": "Yx3ovtbpffy1",
        "outputId": "2e125061-8dde-4d3b-9ca4-7873f9fee22f"
      },
      "source": [
        "import os\r\n",
        "cwd = os.getcwd()\r\n",
        "print(cwd)"
      ],
      "execution_count": null,
      "outputs": [
        {
          "output_type": "stream",
          "text": [
            "/content/drive/My Drive/Analytical Data\n"
          ],
          "name": "stdout"
        }
      ]
    },
    {
      "cell_type": "markdown",
      "metadata": {
        "id": "WRlsXH3y6jm7"
      },
      "source": [
        "**Defining Required functions**"
      ]
    },
    {
      "cell_type": "code",
      "metadata": {
        "id": "LP8CogRr6i-_"
      },
      "source": [
        "# defining the pde\r\n",
        "def pde(x, y):\r\n",
        "  dy_x = tf.gradients(y, x)[0]\r\n",
        "  dy_x1, dy_x2, dy_t = dy_x[:, 0:1], dy_x[:, 1:2], dy_x[:, 2:]\r\n",
        "  dy_x1x1 = tf.gradients(dy_x1, x)[0][:, 0:1]\r\n",
        "  dy_x2x2 = tf.gradients(dy_x2, x)[0][:, 1:2]\r\n",
        "  return (dy_t - (dy_x1x1 - dy_x2x2))\r\n",
        "\r\n",
        "def func(x):\r\n",
        "  return np.full((len(x), 1), 10e-2)\r\n",
        "\r\n",
        "def funcic(x): return np.full((len(x), 1), 25)\r\n",
        "\r\n",
        "def funcbc(x):  # x = the collection of the points on the boundary \r\n",
        "  result = np.zeros((len(x), 1))\r\n",
        "  for i in range(len(x)):\r\n",
        "    result[i] = map_dict[(x[i][0], x[i][1], x[i][2])]  # 0: y, 1: z, 2 : time\r\n",
        "  return result\r\n",
        "\r\n",
        "def solution(x) : return train_y"
      ],
      "execution_count": null,
      "outputs": []
    },
    {
      "cell_type": "markdown",
      "metadata": {
        "id": "9HOyEiZn6vbn"
      },
      "source": [
        "**Defining Required Variables**"
      ]
    },
    {
      "cell_type": "code",
      "metadata": {
        "id": "hYtt_pav6unY"
      },
      "source": [
        "models = []\r\n",
        "train_x = all_[0][0:train_number]\r\n",
        "train_y = new_temps[0:train_number, 0].reshape((1681,1))\r\n",
        "map_dict =  {}\r\n",
        "\r\n",
        "\r\n",
        "# defining the geometry\r\n",
        "geom = dde.geometry.geometry_2d.Rectangle((1,1), (41,41))\r\n",
        "timedomain = dde.geometry.TimeDomain(0, 1)\r\n",
        "geomtime = dde.geometry.GeometryXTime(geom, timedomain)\r\n",
        "\r\n",
        "\r\n",
        "# defining the model\r\n",
        "layer_size = [3] + [32] * 3 + [1]\r\n",
        "activation = \"tanh\"\r\n",
        "initializer = \"Glorot uniform\"\r\n",
        "net = dde.maps.FNN(layer_size, activation, initializer)"
      ],
      "execution_count": null,
      "outputs": []
    },
    {
      "cell_type": "markdown",
      "metadata": {
        "id": "Ra53Vc__60-O"
      },
      "source": [
        "**Retraining Step**"
      ]
    },
    {
      "cell_type": "code",
      "metadata": {
        "id": "K-zYIlwY5qqO",
        "colab": {
          "base_uri": "https://localhost:8080/",
          "height": 738
        },
        "outputId": "77aaeed1-be1f-4a70-f558-c811e94b4511"
      },
      "source": [
        "for time_step in range(2):\n",
        "\n",
        "  # preparing data for this specific time step\n",
        "  train_x = all_[time_step][0:train_number]\n",
        "  train_y = new_temps[0:train_number, time_step].reshape((1681,1))\n",
        "  map_dict =  {}\n",
        "  for i in range(len(train_x)):\n",
        "    map_dict[(train_x[i][0], train_x[i][1], train_x[i][2])] = train_y[i]\n",
        "\n",
        "  # defining the boundary and initial conditions\n",
        "  bc = dde.DirichletBC(geomtime, funcbc, lambda _, on_boundary: on_boundary)\n",
        "  ic = dde.IC(geomtime, funcic, lambda _, on_initial: on_initial)\n",
        "\n",
        "  # defining the data in deepxde format\n",
        "  data = dde.data.TimePDE(geomtime, pde,  [bc, ic], anchors = train_x, solution = solution)\n",
        "  # In the first time-step, just store the model. In the following ones, first restre, then train and then store again.\n",
        "  if time_step == 0:\n",
        "    model = dde.Model(data, net)\n",
        "    model.compile(\"adam\", lr=0.001,metrics=[\"l2 relative error\"])\n",
        "    losshistory, train_state = model.train(epochs=10000, model_save_path = \"model/model.ckpt\")\n",
        "    res = dde.apply((train_state.best_metrics[1], train_state.best_metrics[3], train_state.best_y[1]), (data,))\n",
        "    print(time_step)\n",
        "  else:\n",
        "    model = dde.Model(data, net)\n",
        "    model.compile(\"adam\", lr=0.001,metrics=[\"l2 relative error\"])\n",
        "    losshistory, train_state = model.train(epochs=10000, model_save_path = \"model/model.ckpt\", model_restore_path= \"model/model.ckpt-10000\")\n",
        "    print(time_step)"
      ],
      "execution_count": null,
      "outputs": [
        {
          "output_type": "stream",
          "text": [
            "Compiling model...\n",
            "'compile' took 0.540553 s\n",
            "\n",
            "Initializing variables...\n",
            "Training model...\n",
            "\n",
            "Step      Train loss                        Test loss                         Test metric   \n",
            "0         [1.07e-03, 2.72e+03, nan]         [1.07e-03, 0.00e+00, 0.00e+00]    [1.00e+00]    \n",
            "1000      [3.24e-08, 9.83e+02, nan]         [3.24e-08, 0.00e+00, 0.00e+00]    [4.79e-01]    \n",
            "2000      [8.18e-09, 8.67e+02, nan]         [8.18e-09, 0.00e+00, 0.00e+00]    [4.65e-01]    \n",
            "3000      [7.84e-09, 8.66e+02, nan]         [7.84e-09, 0.00e+00, 0.00e+00]    [4.70e-01]    \n",
            "4000      [3.18e-02, 3.27e+02, nan]         [3.18e-02, 0.00e+00, 0.00e+00]    [2.67e-01]    \n",
            "5000      [2.18e-02, 1.01e+02, nan]         [2.18e-02, 0.00e+00, 0.00e+00]    [1.77e-01]    \n",
            "6000      [2.35e-02, 3.13e+01, nan]         [2.35e-02, 0.00e+00, 0.00e+00]    [1.53e-01]    \n",
            "7000      [1.49e-02, 8.61e+00, nan]         [1.49e-02, 0.00e+00, 0.00e+00]    [1.50e-01]    \n",
            "8000      [9.68e-03, 1.99e+00, nan]         [9.68e-03, 0.00e+00, 0.00e+00]    [1.48e-01]    \n",
            "9000      [5.98e-03, 3.89e-01, nan]         [5.98e-03, 0.00e+00, 0.00e+00]    [1.45e-01]    \n",
            "10000     [4.44e-03, 7.08e-02, nan]         [4.44e-03, 0.00e+00, 0.00e+00]    [1.43e-01]    \n",
            "\n",
            "Best model at step 0:\n",
            "  train loss: inf\n",
            "  test loss: inf\n",
            "  test metric: \n",
            "\n",
            "Epoch 10000: saving model to model/model.ckpt-10000 ...\n",
            "\n",
            "INFO:tensorflow:model/model.ckpt-10000 is not in all_model_checkpoint_paths. Manually adding it.\n",
            "'train' took 30.072413 s\n",
            "\n"
          ],
          "name": "stdout"
        },
        {
          "output_type": "error",
          "ename": "TypeError",
          "evalue": "ignored",
          "traceback": [
            "\u001b[0;31m---------------------------------------------------------------------------\u001b[0m",
            "\u001b[0;31mTypeError\u001b[0m                                 Traceback (most recent call last)",
            "\u001b[0;32m<ipython-input-14-d416c30bd5b5>\u001b[0m in \u001b[0;36m<module>\u001b[0;34m()\u001b[0m\n\u001b[1;32m     19\u001b[0m     \u001b[0mmodel\u001b[0m\u001b[0;34m.\u001b[0m\u001b[0mcompile\u001b[0m\u001b[0;34m(\u001b[0m\u001b[0;34m\"adam\"\u001b[0m\u001b[0;34m,\u001b[0m \u001b[0mlr\u001b[0m\u001b[0;34m=\u001b[0m\u001b[0;36m0.001\u001b[0m\u001b[0;34m,\u001b[0m\u001b[0mmetrics\u001b[0m\u001b[0;34m=\u001b[0m\u001b[0;34m[\u001b[0m\u001b[0;34m\"l2 relative error\"\u001b[0m\u001b[0;34m]\u001b[0m\u001b[0;34m)\u001b[0m\u001b[0;34m\u001b[0m\u001b[0;34m\u001b[0m\u001b[0m\n\u001b[1;32m     20\u001b[0m     \u001b[0mlosshistory\u001b[0m\u001b[0;34m,\u001b[0m \u001b[0mtrain_state\u001b[0m \u001b[0;34m=\u001b[0m \u001b[0mmodel\u001b[0m\u001b[0;34m.\u001b[0m\u001b[0mtrain\u001b[0m\u001b[0;34m(\u001b[0m\u001b[0mepochs\u001b[0m\u001b[0;34m=\u001b[0m\u001b[0;36m10000\u001b[0m\u001b[0;34m,\u001b[0m \u001b[0mmodel_save_path\u001b[0m \u001b[0;34m=\u001b[0m \u001b[0;34m\"model/model.ckpt\"\u001b[0m\u001b[0;34m)\u001b[0m\u001b[0;34m\u001b[0m\u001b[0;34m\u001b[0m\u001b[0m\n\u001b[0;32m---> 21\u001b[0;31m     \u001b[0mres\u001b[0m \u001b[0;34m=\u001b[0m \u001b[0mdde\u001b[0m\u001b[0;34m.\u001b[0m\u001b[0mapply\u001b[0m\u001b[0;34m(\u001b[0m\u001b[0;34m(\u001b[0m\u001b[0mtrain_state\u001b[0m\u001b[0;34m.\u001b[0m\u001b[0mbest_metrics\u001b[0m\u001b[0;34m[\u001b[0m\u001b[0;36m1\u001b[0m\u001b[0;34m]\u001b[0m\u001b[0;34m,\u001b[0m \u001b[0mtrain_state\u001b[0m\u001b[0;34m.\u001b[0m\u001b[0mbest_metrics\u001b[0m\u001b[0;34m[\u001b[0m\u001b[0;36m3\u001b[0m\u001b[0;34m]\u001b[0m\u001b[0;34m,\u001b[0m \u001b[0mtrain_state\u001b[0m\u001b[0;34m.\u001b[0m\u001b[0mbest_y\u001b[0m\u001b[0;34m[\u001b[0m\u001b[0;36m1\u001b[0m\u001b[0;34m]\u001b[0m\u001b[0;34m)\u001b[0m\u001b[0;34m,\u001b[0m \u001b[0;34m(\u001b[0m\u001b[0mdata\u001b[0m\u001b[0;34m,\u001b[0m\u001b[0;34m)\u001b[0m\u001b[0;34m)\u001b[0m\u001b[0;34m\u001b[0m\u001b[0;34m\u001b[0m\u001b[0m\n\u001b[0m\u001b[1;32m     22\u001b[0m     \u001b[0mprint\u001b[0m\u001b[0;34m(\u001b[0m\u001b[0mtime_step\u001b[0m\u001b[0;34m)\u001b[0m\u001b[0;34m\u001b[0m\u001b[0;34m\u001b[0m\u001b[0m\n\u001b[1;32m     23\u001b[0m   \u001b[0;32melse\u001b[0m\u001b[0;34m:\u001b[0m\u001b[0;34m\u001b[0m\u001b[0;34m\u001b[0m\u001b[0m\n",
            "\u001b[0;31mTypeError\u001b[0m: 'NoneType' object is not subscriptable"
          ]
        }
      ]
    },
    {
      "cell_type": "markdown",
      "metadata": {
        "id": "5rXsv_x_yEEf"
      },
      "source": [
        "**Finding Boundary**"
      ]
    },
    {
      "cell_type": "code",
      "metadata": {
        "id": "3lUdRCVbwcwA"
      },
      "source": [
        "import deepxde as dde\r\n",
        "def func(x):\r\n",
        "  return np.full((len(x), 1), 10e-2)\r\n",
        "geom = dde.geometry.geometry_2d.Rectangle((1,1), (41,41))\r\n",
        "#geom = dde.geometry.geometry_2d.Polygon([(0, 0), (0, 40), (41, 41), (41, 0)])\r\n",
        "timedomain = dde.geometry.TimeDomain(0, 0.01) \r\n",
        "geomtime = dde.geometry.GeometryXTime(geom, timedomain)\r\n",
        "# bc = PointSetBC(train_x, train_y)\r\n",
        "bc = dde.DirichletBC(geomtime, funcbc, lambda _, on_boundary: on_boundary)\r\n",
        "# bc = dde.boundary_conditions.PointSet(train_x)"
      ],
      "execution_count": null,
      "outputs": []
    },
    {
      "cell_type": "code",
      "metadata": {
        "id": "Cnvc-87Mr80c"
      },
      "source": [
        "boundary = bc.collocation_points(train_x)\r\n",
        "temps_on_boundary = np.zeros((len(boundary), 1))\r\n",
        "for i in range(len(boundary)):\r\n",
        "  temps_on_boundary[i] = map_dict[(boundary[i][0], boundary[i][1], boundary[i][2])] \r\n",
        "all_boundary = np.concatenate((boundary, temps_on_boundary), axis = 1)"
      ],
      "execution_count": null,
      "outputs": []
    },
    {
      "cell_type": "markdown",
      "metadata": {
        "id": "iGvxQtEex7WD"
      },
      "source": [
        "**Plotting Boundary**"
      ]
    },
    {
      "cell_type": "code",
      "metadata": {
        "id": "A7lIO0DMSydX",
        "colab": {
          "base_uri": "https://localhost:8080/"
        },
        "outputId": "25d7e725-fec3-4f98-cfff-728eac89b2b7"
      },
      "source": [
        "all_boundary.shape"
      ],
      "execution_count": null,
      "outputs": [
        {
          "output_type": "execute_result",
          "data": {
            "text/plain": [
              "(103, 4)"
            ]
          },
          "metadata": {
            "tags": []
          },
          "execution_count": 20
        }
      ]
    },
    {
      "cell_type": "code",
      "metadata": {
        "colab": {
          "base_uri": "https://localhost:8080/",
          "height": 283
        },
        "id": "UQZA1lY0xMc-",
        "outputId": "c9fc91ca-6489-414f-e5ee-eef30d1a537b"
      },
      "source": [
        "import matplotlib.pyplot as plt\r\n",
        "plt.scatter(all_boundary[:,0], all_boundary[:,1]) "
      ],
      "execution_count": null,
      "outputs": [
        {
          "output_type": "execute_result",
          "data": {
            "text/plain": [
              "<matplotlib.collections.PathCollection at 0x7f3cb3aef3c8>"
            ]
          },
          "metadata": {
            "tags": []
          },
          "execution_count": 25
        },
        {
          "output_type": "display_data",
          "data": {
            "image/png": "[encoded data removed]",
            "text/plain": [
              "<Figure size 432x288 with 1 Axes>"
            ]
          },
          "metadata": {
            "tags": [],
            "needs_background": "light"
          }
        }
      ]
    },
    {
      "cell_type": "code",
      "metadata": {
        "colab": {
          "base_uri": "https://localhost:8080/"
        },
        "id": "dFgWnQfbwIy4",
        "outputId": "efe08fda-feb7-4288-e76c-af370acbc683"
      },
      "source": [
        "preds = []\r\n",
        "for i in range(4):\r\n",
        "  preds.append(models[i].predict(all_[i][0:train_number]))"
      ],
      "execution_count": null,
      "outputs": [
        {
          "output_type": "stream",
          "text": [
            "Predicting...\n",
            "'predict' took 0.003094 s\n",
            "\n",
            "Predicting...\n",
            "'predict' took 0.001499 s\n",
            "\n",
            "Predicting...\n",
            "'predict' took 0.001878 s\n",
            "\n",
            "Predicting...\n",
            "'predict' took 0.002430 s\n",
            "\n"
          ],
          "name": "stdout"
        }
      ]
    },
    {
      "cell_type": "code",
      "metadata": {
        "colab": {
          "base_uri": "https://localhost:8080/"
        },
        "id": "0TxnxmSDzWYr",
        "outputId": "9b342c69-2490-42da-b419-02b2a141b9a6"
      },
      "source": [
        "for i in range(0,100,10):\r\n",
        "  print(preds[0][i], preds[1][i], preds[2][i], preds[3][i])\r\n",
        "\r\n",
        "for i in range (0,100,10):\r\n",
        "  print(new_temps[i][0], new_temps[i][1], new_temps[i][2], new_temps[i][3])"
      ],
      "execution_count": null,
      "outputs": [
        {
          "output_type": "stream",
          "text": [
            "[131.15099] [155.87271] [184.12894] [211.76712]\n",
            "[89.55112] [103.03893] [120.36405] [140.55019]\n",
            "[47.40793] [50.595066] [55.093075] [59.437386]\n",
            "[32.00198] [32.76735] [34.17421] [34.982567]\n",
            "[27.25179] [27.220947] [27.79419] [27.86342]\n",
            "[90.84437] [101.65908] [117.69956] [136.63876]\n",
            "[46.59127] [51.73194] [55.529324] [58.994865]\n",
            "[31.909922] [33.52157] [34.668415] [35.26596]\n",
            "[27.395452] [27.647766] [28.29252] [28.215076]\n",
            "[92.2075] [100.12134] [115.07281] [132.86615]\n",
            "133.85 162.48 199.26 246.52\n",
            "89.171 103.05 119.98 140.61\n",
            "46.981 50.574 54.697 59.412\n",
            "31.797 32.732 33.778 34.946\n",
            "27.091 27.35 27.636 27.952\n",
            "94.289 109.5 128.09 150.76\n",
            "49.558 53.659 58.382 63.802\n",
            "32.632 33.695 34.888 36.221\n",
            "27.348 27.641 27.965 28.323\n",
            "98.036 114.14 133.79 157.71\n"
          ],
          "name": "stdout"
        }
      ]
    },
    {
      "cell_type": "code",
      "metadata": {
        "colab": {
          "base_uri": "https://localhost:8080/",
          "height": 265
        },
        "id": "yM_fqdh0wxUl",
        "outputId": "f05ea9de-673b-4e7c-e401-a75b4c6c39c0"
      },
      "source": [
        "times = [i for i in range(4)]\r\n",
        "predictions = []\r\n",
        "actuals = []\r\n",
        "point_number = 10\r\n",
        "for i in range(4):\r\n",
        "  predictions.append(preds[i][point_number])\r\n",
        "  actuals.append(new_temps[point_number][i])\r\n",
        "\r\n",
        "fig, ax = plt.subplots()\r\n",
        "ax.plot(times, predictions)\r\n",
        "ax.plot(times, actuals)\r\n",
        "plt.grid()"
      ],
      "execution_count": null,
      "outputs": [
        {
          "output_type": "display_data",
          "data": {
            "image/png": "[encoded data removed]",
            "text/plain": [
              "<Figure size 432x288 with 1 Axes>"
            ]
          },
          "metadata": {
            "tags": [],
            "needs_background": "light"
          }
        }
      ]
    }
  ]
}