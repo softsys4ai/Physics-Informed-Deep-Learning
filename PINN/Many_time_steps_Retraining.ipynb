{
  "nbformat": 4,
  "nbformat_minor": 0,
  "metadata": {
    "colab": {
      "name": "Many_time_steps-Retraining.ipynb",
      "provenance": [],
      "collapsed_sections": []
    },
    "kernelspec": {
      "display_name": "Python 3",
      "name": "python3"
    },
    "accelerator": "GPU"
  },
  "cells": [
    {
      "cell_type": "markdown",
      "metadata": {
        "id": "-3JoBI1McF6Z"
      },
      "source": [
        "# **Dependancy**"
      ]
    },
    {
      "cell_type": "code",
      "metadata": {
        "id": "zYdMpUCnywut"
      },
      "source": [
        "pip install deepxde"
      ],
      "execution_count": null,
      "outputs": []
    },
    {
      "cell_type": "code",
      "metadata": {
        "id": "GbnRKcS0cE8q",
        "colab": {
          "base_uri": "https://localhost:8080/"
        },
        "outputId": "036b7676-5050-425e-cb2d-5cac227b0c2a"
      },
      "source": [
        "import os\n",
        "import datetime\n",
        "\n",
        "import IPython\n",
        "import IPython.display\n",
        "import matplotlib as mpl\n",
        "import matplotlib.pyplot as plt\n",
        "import numpy as np\n",
        "from numpy import genfromtxt\n",
        "import pandas as pd\n",
        "import seaborn as sns\n",
        "import tensorflow as tf\n",
        "import keras.layers \n",
        "\n",
        "from google.colab import files\n",
        "import io\n",
        "\n",
        "import tensorboard\n",
        "from datetime import datetime\n",
        "\n",
        "from __future__ import absolute_import\n",
        "from __future__ import division\n",
        "from __future__ import print_function\n",
        "\n",
        "import numpy as np\n",
        "\n",
        "import deepxde as dde\n",
        "from deepxde.backend import tf\n",
        "\n",
        "from mpl_toolkits.mplot3d import Axes3D\n",
        "from sklearn.cluster import KMeans\n",
        "from tensorflow.python.keras.utils.vis_utils import plot_model"
      ],
      "execution_count": null,
      "outputs": [
        {
          "output_type": "stream",
          "text": [
            "Using TensorFlow 2 backend.\n",
            "\n",
            "WARNING:tensorflow:From /usr/local/lib/python3.7/dist-packages/tensorflow/python/compat/v2_compat.py:96: disable_resource_variables (from tensorflow.python.ops.variable_scope) is deprecated and will be removed in a future version.\n",
            "Instructions for updating:\n",
            "non-resource variables are not supported in the long term\n"
          ],
          "name": "stdout"
        }
      ]
    },
    {
      "cell_type": "markdown",
      "metadata": {
        "id": "nQN5w35tbsEu"
      },
      "source": [
        "# **Prepare Data**"
      ]
    },
    {
      "cell_type": "code",
      "metadata": {
        "colab": {
          "base_uri": "https://localhost:8080/"
        },
        "id": "1yCKOpSFvGWb",
        "outputId": "6500c6f0-a139-40a8-ab0b-aada571fb3f9"
      },
      "source": [
        "from google.colab import drive\n",
        "drive.mount('/content/drive')"
      ],
      "execution_count": null,
      "outputs": [
        {
          "output_type": "stream",
          "text": [
            "Drive already mounted at /content/drive; to attempt to forcibly remount, call drive.mount(\"/content/drive\", force_remount=True).\n"
          ],
          "name": "stdout"
        }
      ]
    },
    {
      "cell_type": "code",
      "metadata": {
        "colab": {
          "base_uri": "https://localhost:8080/"
        },
        "id": "B3XsJDS2bRUn",
        "outputId": "708c92a3-15cd-4281-99d2-87d3dfe2c124"
      },
      "source": [
        "# Jumps to the desired directory\n",
        "%cd 'drive/My Drive/Analytical Data'\n",
        "p1 = genfromtxt('T_q100_v200_T25_D100.csv', delimiter=',')\n",
        "times = genfromtxt('time.csv', delimiter=',')\n",
        "times = times.reshape((100,1))\n",
        "times.shape\n",
        "times[0:5]\n",
        "points = p1[:, 1:3]\n",
        "points.shape\n",
        "temps = p1[:, 5:]\n",
        "temps.shape\n",
        "train_number = 1681\n",
        "num_p = 1681\n",
        "# test_number = 10 * 100"
      ],
      "execution_count": null,
      "outputs": [
        {
          "output_type": "stream",
          "text": [
            "/content/drive/My Drive/Analytical Data\n"
          ],
          "name": "stdout"
        }
      ]
    },
    {
      "cell_type": "markdown",
      "metadata": {
        "id": "F_pgSpTSjld9"
      },
      "source": [
        "Re-arranging"
      ]
    },
    {
      "cell_type": "code",
      "metadata": {
        "id": "OxbYq5O_n6EO",
        "colab": {
          "base_uri": "https://localhost:8080/"
        },
        "outputId": "c959c5f0-3f88-41eb-ea78-e349c93887d8"
      },
      "source": [
        "all_ = []\n",
        "\n",
        "for j in range(100):\n",
        "  new_points = np.zeros((1681, 3))\n",
        "  for i in range(1681):\n",
        "      new_points[i] = [points[i][0], points[i][1], times[j] * 1000] # y, z, t \n",
        "  all_.append(new_points)\n",
        "\n",
        "new_temps = temps[:,:]\n",
        "new_temps.shape"
      ],
      "execution_count": null,
      "outputs": [
        {
          "output_type": "execute_result",
          "data": {
            "text/plain": [
              "(1681, 100)"
            ]
          },
          "metadata": {
            "tags": []
          },
          "execution_count": 5
        }
      ]
    },
    {
      "cell_type": "markdown",
      "metadata": {
        "id": "P9_w2UhclLBC"
      },
      "source": [
        "**Non-randomized**"
      ]
    },
    {
      "cell_type": "code",
      "metadata": {
        "id": "sqVqy-HmkwqN"
      },
      "source": [
        "new_points=new_points[0:num_p,:]\r\n",
        "new_temps = new_temps[0:num_p,:]"
      ],
      "execution_count": null,
      "outputs": []
    },
    {
      "cell_type": "markdown",
      "metadata": {
        "id": "FlBMgd_3qadt"
      },
      "source": [
        "### Now we have an input of size 168100 by 3 and output of size 168100 by 1"
      ]
    },
    {
      "cell_type": "code",
      "metadata": {
        "id": "lkpbv-8yrA_e",
        "colab": {
          "base_uri": "https://localhost:8080/"
        },
        "outputId": "6c63b7a0-8a78-4ce9-e8ca-218edcc9386d"
      },
      "source": [
        "train_x = new_points[0:train_number]\n",
        "train_y = new_temps[0:train_number]\n",
        "test_x = new_points[train_number:]\n",
        "test_y = new_temps[train_number:]\n",
        "print(train_x.shape)\n",
        "print(train_y.shape)\n",
        "print(test_x.shape)\n",
        "print(test_y.shape)"
      ],
      "execution_count": null,
      "outputs": [
        {
          "output_type": "stream",
          "text": [
            "(1681, 3)\n",
            "(1681, 100)\n",
            "(0, 3)\n",
            "(0, 100)\n"
          ],
          "name": "stdout"
        }
      ]
    },
    {
      "cell_type": "markdown",
      "metadata": {
        "id": "8L2uGoinb1KP"
      },
      "source": [
        "# **Model and PINN**"
      ]
    },
    {
      "cell_type": "markdown",
      "metadata": {
        "id": "aX4cNb4K6opY"
      },
      "source": [
        "**Checking the path**"
      ]
    },
    {
      "cell_type": "code",
      "metadata": {
        "colab": {
          "base_uri": "https://localhost:8080/"
        },
        "id": "Yx3ovtbpffy1",
        "outputId": "207c63ae-e7bd-4047-b3f5-a9501eae4621"
      },
      "source": [
        "import os\r\n",
        "cwd = os.getcwd()\r\n",
        "print(cwd)"
      ],
      "execution_count": null,
      "outputs": [
        {
          "output_type": "stream",
          "text": [
            "/content/drive/My Drive/Analytical Data\n"
          ],
          "name": "stdout"
        }
      ]
    },
    {
      "cell_type": "markdown",
      "metadata": {
        "id": "WRlsXH3y6jm7"
      },
      "source": [
        "**Defining Required functions**"
      ]
    },
    {
      "cell_type": "code",
      "metadata": {
        "id": "LP8CogRr6i-_"
      },
      "source": [
        "# defining the pde\r\n",
        "def pde(x, y):\r\n",
        "  dy_x = tf.gradients(y, x)[0]\r\n",
        "  dy_x1, dy_x2, dy_t = dy_x[:, 0:1], dy_x[:, 1:2], dy_x[:, 2:]\r\n",
        "  dy_x1x1 = tf.gradients(dy_x1, x)[0][:, 0:1]\r\n",
        "  dy_x2x2 = tf.gradients(dy_x2, x)[0][:, 1:2]\r\n",
        "  return (dy_t - (dy_x1x1 - dy_x2x2))\r\n",
        "\r\n",
        "def func(x):\r\n",
        "  return np.full((len(x), 1), 10e-2)\r\n",
        "\r\n",
        "def funcic(x): return np.full((len(x), 1), 25)\r\n",
        "\r\n",
        "def funcbc(x):  # x = the collection of the points on the boundary \r\n",
        "  result = np.zeros((len(x), 1))\r\n",
        "  for i in range(len(x)):\r\n",
        "    result[i] = map_dict[(x[i][0], x[i][1], x[i][2])]  # 0: y, 1: z, 2 : time\r\n",
        "  return result\r\n",
        "\r\n",
        "def solution(x) :\r\n",
        "  result = np.zeros((len(x), 1))\r\n",
        "  for i in range(len(x)):\r\n",
        "    result[i] = map_dict[(x[i][0], x[i][1], x[i][2])]  # 0: y, 1: z, 2 : time\r\n",
        "  return result"
      ],
      "execution_count": null,
      "outputs": []
    },
    {
      "cell_type": "markdown",
      "metadata": {
        "id": "9HOyEiZn6vbn"
      },
      "source": [
        "**Defining Required Variables**"
      ]
    },
    {
      "cell_type": "code",
      "metadata": {
        "id": "hYtt_pav6unY"
      },
      "source": [
        "models = []\r\n",
        "train_x = all_[0][0:train_number]\r\n",
        "train_y = new_temps[0:train_number, 0].reshape((1681,1))\r\n",
        "map_dict =  {}\r\n",
        "\r\n",
        "\r\n",
        "# defining the geometry\r\n",
        "geom = dde.geometry.geometry_2d.Rectangle((1,1), (41,41))\r\n",
        "timedomain = dde.geometry.TimeDomain(0, 1)\r\n",
        "geomtime = dde.geometry.GeometryXTime(geom, timedomain)\r\n",
        "\r\n",
        "\r\n",
        "# defining the model\r\n",
        "layer_size = [3] + [32] * 3 + [1]\r\n",
        "activation = \"tanh\"\r\n",
        "initializer = \"Glorot uniform\"\r\n",
        "net = dde.maps.FNN(layer_size, activation, initializer)"
      ],
      "execution_count": null,
      "outputs": []
    },
    {
      "cell_type": "markdown",
      "metadata": {
        "id": "Ra53Vc__60-O"
      },
      "source": [
        "**Retraining Step**"
      ]
    },
    {
      "cell_type": "code",
      "metadata": {
        "id": "K-zYIlwY5qqO",
        "colab": {
          "base_uri": "https://localhost:8080/",
          "height": 1000
        },
        "outputId": "a8ddb777-8e67-4a6c-8bb5-0cba90a4ad51"
      },
      "source": [
        "for time_step in range(2):\n",
        "\n",
        "  # preparing data for this specific time step\n",
        "  train_x = all_[time_step][0:train_number]\n",
        "  train_y = new_temps[0:train_number, time_step].reshape((1681,1))\n",
        "  map_dict =  {}\n",
        "  for i in range(len(train_x)):\n",
        "    map_dict[(train_x[i][0], train_x[i][1], train_x[i][2])] = train_y[i]\n",
        "\n",
        "  # defining the boundary and initial conditions\n",
        "  bc = dde.DirichletBC(geomtime, funcbc, lambda _, on_boundary: on_boundary)\n",
        "  ic = dde.IC(geomtime, funcic, lambda _, on_initial: on_initial)\n",
        "\n",
        "\n",
        "  # defining the data in deepxde format\n",
        "  data = dde.data.TimePDE(geomtime, pde, [bc, ic], num_boundary = 0, num_domain = 0, anchors = train_x, solution = solution)\n",
        "\n",
        "  # In the first time-step, just store the model. In the following ones, first restre, then train and then store again.\n",
        "  if time_step == 0:\n",
        "    model = dde.Model(data, net)\n",
        "    model.compile(\"adam\", lr=0.001,metrics=[\"l2 relative error\"])\n",
        "    losshistory, train_state = model.train(epochs=10000, model_save_path = \"model/model.ckpt\")\n",
        "    print(time_step)\n",
        "  else:\n",
        "    model = dde.Model(data, net)\n",
        "    model.compile(\"adam\", lr=0.001,metrics=[\"l2 relative error\"])\n",
        "    losshistory, train_state = model.train(epochs=10000, model_save_path = \"model/model.ckpt\", model_restore_path= \"model/model.ckpt-10000\")\n",
        "    print(time_step)"
      ],
      "execution_count": null,
      "outputs": [
        {
          "output_type": "stream",
          "text": [
            "Compiling model...\n",
            "'compile' took 0.838761 s\n",
            "\n",
            "Initializing variables...\n",
            "Training model...\n",
            "\n",
            "Step      Train loss                        Test loss                         Test metric   \n",
            "0         [9.23e-04, 2.74e+03, nan]         [9.23e-04, 0.00e+00, 0.00e+00]    [1.01e+00]    \n",
            "1000      [3.83e-08, 9.60e+02, nan]         [3.83e-08, 0.00e+00, 0.00e+00]    [4.72e-01]    \n",
            "2000      [1.25e-08, 8.67e+02, nan]         [1.25e-08, 0.00e+00, 0.00e+00]    [4.66e-01]    \n",
            "3000      [7.54e-09, 8.66e+02, nan]         [7.54e-09, 0.00e+00, 0.00e+00]    [4.70e-01]    \n",
            "4000      [6.33e-09, 8.66e+02, nan]         [6.33e-09, 0.00e+00, 0.00e+00]    [4.71e-01]    \n",
            "5000      [2.05e-05, 8.66e+02, nan]         [2.05e-05, 0.00e+00, 0.00e+00]    [4.70e-01]    \n",
            "6000      [1.87e-02, 1.16e+02, nan]         [1.87e-02, 0.00e+00, 0.00e+00]    [1.86e-01]    \n",
            "7000      [2.97e-02, 3.09e+01, nan]         [2.97e-02, 0.00e+00, 0.00e+00]    [1.59e-01]    \n",
            "8000      [2.81e-02, 7.70e+00, nan]         [2.81e-02, 0.00e+00, 0.00e+00]    [1.50e-01]    \n",
            "9000      [1.65e-02, 1.65e+00, nan]         [1.65e-02, 0.00e+00, 0.00e+00]    [1.49e-01]    \n",
            "10000     [8.16e-03, 3.06e-01, nan]         [8.16e-03, 0.00e+00, 0.00e+00]    [1.48e-01]    \n",
            "\n",
            "Best model at step 0:\n",
            "  train loss: inf\n",
            "  test loss: inf\n",
            "  test metric: \n",
            "\n",
            "Epoch 10000: saving model to model/model.ckpt-10000 ...\n",
            "\n",
            "INFO:tensorflow:model/model.ckpt-10000 is not in all_model_checkpoint_paths. Manually adding it.\n",
            "'train' took 55.471794 s\n",
            "\n",
            "0\n",
            "Compiling model...\n",
            "'compile' took 0.850238 s\n",
            "\n",
            "Initializing variables...\n",
            "Restoring model from model/model.ckpt-10000 ...\n",
            "INFO:tensorflow:Restoring parameters from model/model.ckpt-10000\n"
          ],
          "name": "stdout"
        },
        {
          "output_type": "error",
          "ename": "NotFoundError",
          "evalue": "ignored",
          "traceback": [
            "\u001b[0;31m---------------------------------------------------------------------------\u001b[0m",
            "\u001b[0;31mNotFoundError\u001b[0m                             Traceback (most recent call last)",
            "\u001b[0;32m/usr/local/lib/python3.7/dist-packages/tensorflow/python/client/session.py\u001b[0m in \u001b[0;36m_do_call\u001b[0;34m(self, fn, *args)\u001b[0m\n\u001b[1;32m   1374\u001b[0m     \u001b[0;32mtry\u001b[0m\u001b[0;34m:\u001b[0m\u001b[0;34m\u001b[0m\u001b[0;34m\u001b[0m\u001b[0m\n\u001b[0;32m-> 1375\u001b[0;31m       \u001b[0;32mreturn\u001b[0m \u001b[0mfn\u001b[0m\u001b[0;34m(\u001b[0m\u001b[0;34m*\u001b[0m\u001b[0margs\u001b[0m\u001b[0;34m)\u001b[0m\u001b[0;34m\u001b[0m\u001b[0;34m\u001b[0m\u001b[0m\n\u001b[0m\u001b[1;32m   1376\u001b[0m     \u001b[0;32mexcept\u001b[0m \u001b[0merrors\u001b[0m\u001b[0;34m.\u001b[0m\u001b[0mOpError\u001b[0m \u001b[0;32mas\u001b[0m \u001b[0me\u001b[0m\u001b[0;34m:\u001b[0m\u001b[0;34m\u001b[0m\u001b[0;34m\u001b[0m\u001b[0m\n",
            "\u001b[0;32m/usr/local/lib/python3.7/dist-packages/tensorflow/python/client/session.py\u001b[0m in \u001b[0;36m_run_fn\u001b[0;34m(feed_dict, fetch_list, target_list, options, run_metadata)\u001b[0m\n\u001b[1;32m   1359\u001b[0m       return self._call_tf_sessionrun(options, feed_dict, fetch_list,\n\u001b[0;32m-> 1360\u001b[0;31m                                       target_list, run_metadata)\n\u001b[0m\u001b[1;32m   1361\u001b[0m \u001b[0;34m\u001b[0m\u001b[0m\n",
            "\u001b[0;32m/usr/local/lib/python3.7/dist-packages/tensorflow/python/client/session.py\u001b[0m in \u001b[0;36m_call_tf_sessionrun\u001b[0;34m(self, options, feed_dict, fetch_list, target_list, run_metadata)\u001b[0m\n\u001b[1;32m   1452\u001b[0m                                             \u001b[0mfetch_list\u001b[0m\u001b[0;34m,\u001b[0m \u001b[0mtarget_list\u001b[0m\u001b[0;34m,\u001b[0m\u001b[0;34m\u001b[0m\u001b[0;34m\u001b[0m\u001b[0m\n\u001b[0;32m-> 1453\u001b[0;31m                                             run_metadata)\n\u001b[0m\u001b[1;32m   1454\u001b[0m \u001b[0;34m\u001b[0m\u001b[0m\n",
            "\u001b[0;31mNotFoundError\u001b[0m: 2 root error(s) found.\n  (0) Not found: Key beta1_power_4 not found in checkpoint\n\t [[{{node save_5/RestoreV2}}]]\n  (1) Not found: Key beta1_power_4 not found in checkpoint\n\t [[{{node save_5/RestoreV2}}]]\n\t [[save_5/RestoreV2/_171]]\n0 successful operations.\n0 derived errors ignored.",
            "\nDuring handling of the above exception, another exception occurred:\n",
            "\u001b[0;31mNotFoundError\u001b[0m                             Traceback (most recent call last)",
            "\u001b[0;32m/usr/local/lib/python3.7/dist-packages/tensorflow/python/training/saver.py\u001b[0m in \u001b[0;36mrestore\u001b[0;34m(self, sess, save_path)\u001b[0m\n\u001b[1;32m   1297\u001b[0m         sess.run(self.saver_def.restore_op_name,\n\u001b[0;32m-> 1298\u001b[0;31m                  {self.saver_def.filename_tensor_name: save_path})\n\u001b[0m\u001b[1;32m   1299\u001b[0m     \u001b[0;32mexcept\u001b[0m \u001b[0merrors\u001b[0m\u001b[0;34m.\u001b[0m\u001b[0mNotFoundError\u001b[0m \u001b[0;32mas\u001b[0m \u001b[0merr\u001b[0m\u001b[0;34m:\u001b[0m\u001b[0;34m\u001b[0m\u001b[0;34m\u001b[0m\u001b[0m\n",
            "\u001b[0;32m/usr/local/lib/python3.7/dist-packages/tensorflow/python/client/session.py\u001b[0m in \u001b[0;36mrun\u001b[0;34m(self, fetches, feed_dict, options, run_metadata)\u001b[0m\n\u001b[1;32m    967\u001b[0m       result = self._run(None, fetches, feed_dict, options_ptr,\n\u001b[0;32m--> 968\u001b[0;31m                          run_metadata_ptr)\n\u001b[0m\u001b[1;32m    969\u001b[0m       \u001b[0;32mif\u001b[0m \u001b[0mrun_metadata\u001b[0m\u001b[0;34m:\u001b[0m\u001b[0;34m\u001b[0m\u001b[0;34m\u001b[0m\u001b[0m\n",
            "\u001b[0;32m/usr/local/lib/python3.7/dist-packages/tensorflow/python/client/session.py\u001b[0m in \u001b[0;36m_run\u001b[0;34m(self, handle, fetches, feed_dict, options, run_metadata)\u001b[0m\n\u001b[1;32m   1190\u001b[0m       results = self._do_run(handle, final_targets, final_fetches,\n\u001b[0;32m-> 1191\u001b[0;31m                              feed_dict_tensor, options, run_metadata)\n\u001b[0m\u001b[1;32m   1192\u001b[0m     \u001b[0;32melse\u001b[0m\u001b[0;34m:\u001b[0m\u001b[0;34m\u001b[0m\u001b[0;34m\u001b[0m\u001b[0m\n",
            "\u001b[0;32m/usr/local/lib/python3.7/dist-packages/tensorflow/python/client/session.py\u001b[0m in \u001b[0;36m_do_run\u001b[0;34m(self, handle, target_list, fetch_list, feed_dict, options, run_metadata)\u001b[0m\n\u001b[1;32m   1368\u001b[0m       return self._do_call(_run_fn, feeds, fetches, targets, options,\n\u001b[0;32m-> 1369\u001b[0;31m                            run_metadata)\n\u001b[0m\u001b[1;32m   1370\u001b[0m     \u001b[0;32melse\u001b[0m\u001b[0;34m:\u001b[0m\u001b[0;34m\u001b[0m\u001b[0;34m\u001b[0m\u001b[0m\n",
            "\u001b[0;32m/usr/local/lib/python3.7/dist-packages/tensorflow/python/client/session.py\u001b[0m in \u001b[0;36m_do_call\u001b[0;34m(self, fn, *args)\u001b[0m\n\u001b[1;32m   1393\u001b[0m                     'disable_meta_optimizer = True')\n\u001b[0;32m-> 1394\u001b[0;31m       \u001b[0;32mraise\u001b[0m \u001b[0mtype\u001b[0m\u001b[0;34m(\u001b[0m\u001b[0me\u001b[0m\u001b[0;34m)\u001b[0m\u001b[0;34m(\u001b[0m\u001b[0mnode_def\u001b[0m\u001b[0;34m,\u001b[0m \u001b[0mop\u001b[0m\u001b[0;34m,\u001b[0m \u001b[0mmessage\u001b[0m\u001b[0;34m)\u001b[0m\u001b[0;34m\u001b[0m\u001b[0;34m\u001b[0m\u001b[0m\n\u001b[0m\u001b[1;32m   1395\u001b[0m \u001b[0;34m\u001b[0m\u001b[0m\n",
            "\u001b[0;31mNotFoundError\u001b[0m: 2 root error(s) found.\n  (0) Not found: Key beta1_power_4 not found in checkpoint\n\t [[node save_5/RestoreV2 (defined at /usr/local/lib/python3.7/dist-packages/deepxde/model.py:206) ]]\n  (1) Not found: Key beta1_power_4 not found in checkpoint\n\t [[node save_5/RestoreV2 (defined at /usr/local/lib/python3.7/dist-packages/deepxde/model.py:206) ]]\n\t [[save_5/RestoreV2/_171]]\n0 successful operations.\n0 derived errors ignored.\n\nOriginal stack trace for 'save_5/RestoreV2':\n  File \"/usr/lib/python3.7/runpy.py\", line 193, in _run_module_as_main\n    \"__main__\", mod_spec)\n  File \"/usr/lib/python3.7/runpy.py\", line 85, in _run_code\n    exec(code, run_globals)\n  File \"/usr/local/lib/python3.7/dist-packages/ipykernel_launcher.py\", line 16, in <module>\n    app.launch_new_instance()\n  File \"/usr/local/lib/python3.7/dist-packages/traitlets/config/application.py\", line 845, in launch_instance\n    app.start()\n  File \"/usr/local/lib/python3.7/dist-packages/ipykernel/kernelapp.py\", line 499, in start\n    self.io_loop.start()\n  File \"/usr/local/lib/python3.7/dist-packages/tornado/platform/asyncio.py\", line 132, in start\n    self.asyncio_loop.run_forever()\n  File \"/usr/lib/python3.7/asyncio/base_events.py\", line 541, in run_forever\n    self._run_once()\n  File \"/usr/lib/python3.7/asyncio/base_events.py\", line 1786, in _run_once\n    handle._run()\n  File \"/usr/lib/python3.7/asyncio/events.py\", line 88, in _run\n    self._context.run(self._callback, *self._args)\n  File \"/usr/local/lib/python3.7/dist-packages/tornado/platform/asyncio.py\", line 122, in _handle_events\n    handler_func(fileobj, events)\n  File \"/usr/local/lib/python3.7/dist-packages/tornado/stack_context.py\", line 300, in null_wrapper\n    return fn(*args, **kwargs)\n  File \"/usr/local/lib/python3.7/dist-packages/zmq/eventloop/zmqstream.py\", line 451, in _handle_events\n    self._handle_recv()\n  File \"/usr/local/lib/python3.7/dist-packages/zmq/eventloop/zmqstream.py\", line 480, in _handle_recv\n    self._run_callback(callback, msg)\n  File \"/usr/local/lib/python3.7/dist-packages/zmq/eventloop/zmqstream.py\", line 434, in _run_callback\n    callback(*args, **kwargs)\n  File \"/usr/local/lib/python3.7/dist-packages/tornado/stack_context.py\", line 300, in null_wrapper\n    return fn(*args, **kwargs)\n  File \"/usr/local/lib/python3.7/dist-packages/ipykernel/kernelbase.py\", line 283, in dispatcher\n    return self.dispatch_shell(stream, msg)\n  File \"/usr/local/lib/python3.7/dist-packages/ipykernel/kernelbase.py\", line 233, in dispatch_shell\n    handler(stream, idents, msg)\n  File \"/usr/local/lib/python3.7/dist-packages/ipykernel/kernelbase.py\", line 399, in execute_request\n    user_expressions, allow_stdin)\n  File \"/usr/local/lib/python3.7/dist-packages/ipykernel/ipkernel.py\", line 208, in do_execute\n    res = shell.run_cell(code, store_history=store_history, silent=silent)\n  File \"/usr/local/lib/python3.7/dist-packages/ipykernel/zmqshell.py\", line 537, in run_cell\n    return super(ZMQInteractiveShell, self).run_cell(*args, **kwargs)\n  File \"/usr/local/lib/python3.7/dist-packages/IPython/core/interactiveshell.py\", line 2718, in run_cell\n    interactivity=interactivity, compiler=compiler, result=result)\n  File \"/usr/local/lib/python3.7/dist-packages/IPython/core/interactiveshell.py\", line 2822, in run_ast_nodes\n    if self.run_code(code, result):\n  File \"/usr/local/lib/python3.7/dist-packages/IPython/core/interactiveshell.py\", line 2882, in run_code\n    exec(code_obj, self.user_global_ns, self.user_ns)\n  File \"<ipython-input-45-8359eaea2a81>\", line 27, in <module>\n    model.compile(\"adam\", lr=0.001,metrics=[\"l2 relative error\"])\n  File \"/usr/local/lib/python3.7/dist-packages/deepxde/utils.py\", line 52, in wrapper\n    result = f(*args, **kwargs)\n  File \"/usr/local/lib/python3.7/dist-packages/deepxde/model.py\", line 82, in compile\n    self._open_tfsession()\n  File \"/usr/local/lib/python3.7/dist-packages/deepxde/model.py\", line 206, in _open_tfsession\n    self.saver = tf.train.Saver(max_to_keep=None)\n  File \"/usr/local/lib/python3.7/dist-packages/tensorflow/python/training/saver.py\", line 835, in __init__\n    self.build()\n  File \"/usr/local/lib/python3.7/dist-packages/tensorflow/python/training/saver.py\", line 847, in build\n    self._build(self._filename, build_save=True, build_restore=True)\n  File \"/usr/local/lib/python3.7/dist-packages/tensorflow/python/training/saver.py\", line 885, in _build\n    build_restore=build_restore)\n  File \"/usr/local/lib/python3.7/dist-packages/tensorflow/python/training/saver.py\", line 515, in _build_internal\n    restore_sequentially, reshape)\n  File \"/usr/local/lib/python3.7/dist-packages/tensorflow/python/training/saver.py\", line 335, in _AddRestoreOps\n    restore_sequentially)\n  File \"/usr/local/lib/python3.7/dist-packages/tensorflow/python/training/saver.py\", line 582, in bulk_restore\n    return io_ops.restore_v2(filename_tensor, names, slices, dtypes)\n  File \"/usr/local/lib/python3.7/dist-packages/tensorflow/python/ops/gen_io_ops.py\", line 1511, in restore_v2\n    name=name)\n  File \"/usr/local/lib/python3.7/dist-packages/tensorflow/python/framework/op_def_library.py\", line 750, in _apply_op_helper\n    attrs=attr_protos, op_def=op_def)\n  File \"/usr/local/lib/python3.7/dist-packages/tensorflow/python/framework/ops.py\", line 3536, in _create_op_internal\n    op_def=op_def)\n  File \"/usr/local/lib/python3.7/dist-packages/tensorflow/python/framework/ops.py\", line 1990, in __init__\n    self._traceback = tf_stack.extract_stack()\n",
            "\nDuring handling of the above exception, another exception occurred:\n",
            "\u001b[0;31mRuntimeError\u001b[0m                              Traceback (most recent call last)",
            "\u001b[0;32m/usr/local/lib/python3.7/dist-packages/tensorflow/python/training/py_checkpoint_reader.py\u001b[0m in \u001b[0;36mget_tensor\u001b[0;34m(self, tensor_str)\u001b[0m\n\u001b[1;32m     69\u001b[0m     return CheckpointReader.CheckpointReader_GetTensor(\n\u001b[0;32m---> 70\u001b[0;31m         self, compat.as_bytes(tensor_str))\n\u001b[0m\u001b[1;32m     71\u001b[0m   \u001b[0;31m# TODO(b/143319754): Remove the RuntimeError casting logic once we resolve the\u001b[0m\u001b[0;34m\u001b[0m\u001b[0;34m\u001b[0m\u001b[0;34m\u001b[0m\u001b[0m\n",
            "\u001b[0;31mRuntimeError\u001b[0m: Key _CHECKPOINTABLE_OBJECT_GRAPH not found in checkpoint",
            "\nDuring handling of the above exception, another exception occurred:\n",
            "\u001b[0;31mNotFoundError\u001b[0m                             Traceback (most recent call last)",
            "\u001b[0;32m/usr/local/lib/python3.7/dist-packages/tensorflow/python/training/saver.py\u001b[0m in \u001b[0;36mrestore\u001b[0;34m(self, sess, save_path)\u001b[0m\n\u001b[1;32m   1307\u001b[0m       \u001b[0;32mtry\u001b[0m\u001b[0;34m:\u001b[0m\u001b[0;34m\u001b[0m\u001b[0;34m\u001b[0m\u001b[0m\n\u001b[0;32m-> 1308\u001b[0;31m         \u001b[0mnames_to_keys\u001b[0m \u001b[0;34m=\u001b[0m \u001b[0mobject_graph_key_mapping\u001b[0m\u001b[0;34m(\u001b[0m\u001b[0msave_path\u001b[0m\u001b[0;34m)\u001b[0m\u001b[0;34m\u001b[0m\u001b[0;34m\u001b[0m\u001b[0m\n\u001b[0m\u001b[1;32m   1309\u001b[0m       \u001b[0;32mexcept\u001b[0m \u001b[0merrors\u001b[0m\u001b[0;34m.\u001b[0m\u001b[0mNotFoundError\u001b[0m\u001b[0;34m:\u001b[0m\u001b[0;34m\u001b[0m\u001b[0;34m\u001b[0m\u001b[0m\n",
            "\u001b[0;32m/usr/local/lib/python3.7/dist-packages/tensorflow/python/training/saver.py\u001b[0m in \u001b[0;36mobject_graph_key_mapping\u001b[0;34m(checkpoint_path)\u001b[0m\n\u001b[1;32m   1625\u001b[0m   \u001b[0mreader\u001b[0m \u001b[0;34m=\u001b[0m \u001b[0mpy_checkpoint_reader\u001b[0m\u001b[0;34m.\u001b[0m\u001b[0mNewCheckpointReader\u001b[0m\u001b[0;34m(\u001b[0m\u001b[0mcheckpoint_path\u001b[0m\u001b[0;34m)\u001b[0m\u001b[0;34m\u001b[0m\u001b[0;34m\u001b[0m\u001b[0m\n\u001b[0;32m-> 1626\u001b[0;31m   \u001b[0mobject_graph_string\u001b[0m \u001b[0;34m=\u001b[0m \u001b[0mreader\u001b[0m\u001b[0;34m.\u001b[0m\u001b[0mget_tensor\u001b[0m\u001b[0;34m(\u001b[0m\u001b[0mtrackable\u001b[0m\u001b[0;34m.\u001b[0m\u001b[0mOBJECT_GRAPH_PROTO_KEY\u001b[0m\u001b[0;34m)\u001b[0m\u001b[0;34m\u001b[0m\u001b[0;34m\u001b[0m\u001b[0m\n\u001b[0m\u001b[1;32m   1627\u001b[0m   \u001b[0mobject_graph_proto\u001b[0m \u001b[0;34m=\u001b[0m \u001b[0;34m(\u001b[0m\u001b[0mtrackable_object_graph_pb2\u001b[0m\u001b[0;34m.\u001b[0m\u001b[0mTrackableObjectGraph\u001b[0m\u001b[0;34m(\u001b[0m\u001b[0;34m)\u001b[0m\u001b[0;34m)\u001b[0m\u001b[0;34m\u001b[0m\u001b[0;34m\u001b[0m\u001b[0m\n",
            "\u001b[0;32m/usr/local/lib/python3.7/dist-packages/tensorflow/python/training/py_checkpoint_reader.py\u001b[0m in \u001b[0;36mget_tensor\u001b[0;34m(self, tensor_str)\u001b[0m\n\u001b[1;32m     73\u001b[0m   \u001b[0;32mexcept\u001b[0m \u001b[0mRuntimeError\u001b[0m \u001b[0;32mas\u001b[0m \u001b[0me\u001b[0m\u001b[0;34m:\u001b[0m\u001b[0;34m\u001b[0m\u001b[0;34m\u001b[0m\u001b[0m\n\u001b[0;32m---> 74\u001b[0;31m     \u001b[0merror_translator\u001b[0m\u001b[0;34m(\u001b[0m\u001b[0me\u001b[0m\u001b[0;34m)\u001b[0m\u001b[0;34m\u001b[0m\u001b[0;34m\u001b[0m\u001b[0m\n\u001b[0m\u001b[1;32m     75\u001b[0m \u001b[0;34m\u001b[0m\u001b[0m\n",
            "\u001b[0;32m/usr/local/lib/python3.7/dist-packages/tensorflow/python/training/py_checkpoint_reader.py\u001b[0m in \u001b[0;36merror_translator\u001b[0;34m(e)\u001b[0m\n\u001b[1;32m     34\u001b[0m       'matching files for') in error_message:\n\u001b[0;32m---> 35\u001b[0;31m     \u001b[0;32mraise\u001b[0m \u001b[0merrors_impl\u001b[0m\u001b[0;34m.\u001b[0m\u001b[0mNotFoundError\u001b[0m\u001b[0;34m(\u001b[0m\u001b[0;32mNone\u001b[0m\u001b[0;34m,\u001b[0m \u001b[0;32mNone\u001b[0m\u001b[0;34m,\u001b[0m \u001b[0merror_message\u001b[0m\u001b[0;34m)\u001b[0m\u001b[0;34m\u001b[0m\u001b[0;34m\u001b[0m\u001b[0m\n\u001b[0m\u001b[1;32m     36\u001b[0m   elif 'Sliced checkpoints are not supported' in error_message or (\n",
            "\u001b[0;31mNotFoundError\u001b[0m: Key _CHECKPOINTABLE_OBJECT_GRAPH not found in checkpoint",
            "\nDuring handling of the above exception, another exception occurred:\n",
            "\u001b[0;31mNotFoundError\u001b[0m                             Traceback (most recent call last)",
            "\u001b[0;32m<ipython-input-45-8359eaea2a81>\u001b[0m in \u001b[0;36m<module>\u001b[0;34m()\u001b[0m\n\u001b[1;32m     26\u001b[0m     \u001b[0mmodel\u001b[0m \u001b[0;34m=\u001b[0m \u001b[0mdde\u001b[0m\u001b[0;34m.\u001b[0m\u001b[0mModel\u001b[0m\u001b[0;34m(\u001b[0m\u001b[0mdata\u001b[0m\u001b[0;34m,\u001b[0m \u001b[0mnet\u001b[0m\u001b[0;34m)\u001b[0m\u001b[0;34m\u001b[0m\u001b[0;34m\u001b[0m\u001b[0m\n\u001b[1;32m     27\u001b[0m     \u001b[0mmodel\u001b[0m\u001b[0;34m.\u001b[0m\u001b[0mcompile\u001b[0m\u001b[0;34m(\u001b[0m\u001b[0;34m\"adam\"\u001b[0m\u001b[0;34m,\u001b[0m \u001b[0mlr\u001b[0m\u001b[0;34m=\u001b[0m\u001b[0;36m0.001\u001b[0m\u001b[0;34m,\u001b[0m\u001b[0mmetrics\u001b[0m\u001b[0;34m=\u001b[0m\u001b[0;34m[\u001b[0m\u001b[0;34m\"l2 relative error\"\u001b[0m\u001b[0;34m]\u001b[0m\u001b[0;34m)\u001b[0m\u001b[0;34m\u001b[0m\u001b[0;34m\u001b[0m\u001b[0m\n\u001b[0;32m---> 28\u001b[0;31m     \u001b[0mlosshistory\u001b[0m\u001b[0;34m,\u001b[0m \u001b[0mtrain_state\u001b[0m \u001b[0;34m=\u001b[0m \u001b[0mmodel\u001b[0m\u001b[0;34m.\u001b[0m\u001b[0mtrain\u001b[0m\u001b[0;34m(\u001b[0m\u001b[0mepochs\u001b[0m\u001b[0;34m=\u001b[0m\u001b[0;36m10000\u001b[0m\u001b[0;34m,\u001b[0m \u001b[0mmodel_save_path\u001b[0m \u001b[0;34m=\u001b[0m \u001b[0;34m\"model/model.ckpt\"\u001b[0m\u001b[0;34m,\u001b[0m \u001b[0mmodel_restore_path\u001b[0m\u001b[0;34m=\u001b[0m \u001b[0;34m\"model/model.ckpt-10000\"\u001b[0m\u001b[0;34m)\u001b[0m\u001b[0;34m\u001b[0m\u001b[0;34m\u001b[0m\u001b[0m\n\u001b[0m\u001b[1;32m     29\u001b[0m     \u001b[0mprint\u001b[0m\u001b[0;34m(\u001b[0m\u001b[0mtime_step\u001b[0m\u001b[0;34m)\u001b[0m\u001b[0;34m\u001b[0m\u001b[0;34m\u001b[0m\u001b[0m\n",
            "\u001b[0;32m/usr/local/lib/python3.7/dist-packages/deepxde/utils.py\u001b[0m in \u001b[0;36mwrapper\u001b[0;34m(*args, **kwargs)\u001b[0m\n\u001b[1;32m     50\u001b[0m     \u001b[0;32mdef\u001b[0m \u001b[0mwrapper\u001b[0m\u001b[0;34m(\u001b[0m\u001b[0;34m*\u001b[0m\u001b[0margs\u001b[0m\u001b[0;34m,\u001b[0m \u001b[0;34m**\u001b[0m\u001b[0mkwargs\u001b[0m\u001b[0;34m)\u001b[0m\u001b[0;34m:\u001b[0m\u001b[0;34m\u001b[0m\u001b[0;34m\u001b[0m\u001b[0m\n\u001b[1;32m     51\u001b[0m         \u001b[0mts\u001b[0m \u001b[0;34m=\u001b[0m \u001b[0mtime\u001b[0m\u001b[0;34m.\u001b[0m\u001b[0mtime\u001b[0m\u001b[0;34m(\u001b[0m\u001b[0;34m)\u001b[0m\u001b[0;34m\u001b[0m\u001b[0;34m\u001b[0m\u001b[0m\n\u001b[0;32m---> 52\u001b[0;31m         \u001b[0mresult\u001b[0m \u001b[0;34m=\u001b[0m \u001b[0mf\u001b[0m\u001b[0;34m(\u001b[0m\u001b[0;34m*\u001b[0m\u001b[0margs\u001b[0m\u001b[0;34m,\u001b[0m \u001b[0;34m**\u001b[0m\u001b[0mkwargs\u001b[0m\u001b[0;34m)\u001b[0m\u001b[0;34m\u001b[0m\u001b[0;34m\u001b[0m\u001b[0m\n\u001b[0m\u001b[1;32m     53\u001b[0m         \u001b[0mte\u001b[0m \u001b[0;34m=\u001b[0m \u001b[0mtime\u001b[0m\u001b[0;34m.\u001b[0m\u001b[0mtime\u001b[0m\u001b[0;34m(\u001b[0m\u001b[0;34m)\u001b[0m\u001b[0;34m\u001b[0m\u001b[0;34m\u001b[0m\u001b[0m\n\u001b[1;32m     54\u001b[0m         \u001b[0mprint\u001b[0m\u001b[0;34m(\u001b[0m\u001b[0;34m\"%r took %f s\\n\"\u001b[0m \u001b[0;34m%\u001b[0m \u001b[0;34m(\u001b[0m\u001b[0mf\u001b[0m\u001b[0;34m.\u001b[0m\u001b[0m__name__\u001b[0m\u001b[0;34m,\u001b[0m \u001b[0mte\u001b[0m \u001b[0;34m-\u001b[0m \u001b[0mts\u001b[0m\u001b[0;34m)\u001b[0m\u001b[0;34m)\u001b[0m\u001b[0;34m\u001b[0m\u001b[0;34m\u001b[0m\u001b[0m\n",
            "\u001b[0;32m/usr/local/lib/python3.7/dist-packages/deepxde/model.py\u001b[0m in \u001b[0;36mtrain\u001b[0;34m(self, epochs, batch_size, display_every, uncertainty, disregard_previous_best, callbacks, model_restore_path, model_save_path, print_model)\u001b[0m\n\u001b[1;32m    145\u001b[0m         \u001b[0;32mif\u001b[0m \u001b[0mmodel_restore_path\u001b[0m \u001b[0;32mis\u001b[0m \u001b[0;32mnot\u001b[0m \u001b[0;32mNone\u001b[0m\u001b[0;34m:\u001b[0m\u001b[0;34m\u001b[0m\u001b[0;34m\u001b[0m\u001b[0m\n\u001b[1;32m    146\u001b[0m             \u001b[0mprint\u001b[0m\u001b[0;34m(\u001b[0m\u001b[0;34m\"Restoring model from {} ...\"\u001b[0m\u001b[0;34m.\u001b[0m\u001b[0mformat\u001b[0m\u001b[0;34m(\u001b[0m\u001b[0mmodel_restore_path\u001b[0m\u001b[0;34m)\u001b[0m\u001b[0;34m)\u001b[0m\u001b[0;34m\u001b[0m\u001b[0;34m\u001b[0m\u001b[0m\n\u001b[0;32m--> 147\u001b[0;31m             \u001b[0mself\u001b[0m\u001b[0;34m.\u001b[0m\u001b[0msaver\u001b[0m\u001b[0;34m.\u001b[0m\u001b[0mrestore\u001b[0m\u001b[0;34m(\u001b[0m\u001b[0mself\u001b[0m\u001b[0;34m.\u001b[0m\u001b[0msess\u001b[0m\u001b[0;34m,\u001b[0m \u001b[0mmodel_restore_path\u001b[0m\u001b[0;34m)\u001b[0m\u001b[0;34m\u001b[0m\u001b[0;34m\u001b[0m\u001b[0m\n\u001b[0m\u001b[1;32m    148\u001b[0m \u001b[0;34m\u001b[0m\u001b[0m\n\u001b[1;32m    149\u001b[0m         \u001b[0mprint\u001b[0m\u001b[0;34m(\u001b[0m\u001b[0;34m\"Training model...\\n\"\u001b[0m\u001b[0;34m)\u001b[0m\u001b[0;34m\u001b[0m\u001b[0;34m\u001b[0m\u001b[0m\n",
            "\u001b[0;32m/usr/local/lib/python3.7/dist-packages/tensorflow/python/training/saver.py\u001b[0m in \u001b[0;36mrestore\u001b[0;34m(self, sess, save_path)\u001b[0m\n\u001b[1;32m   1312\u001b[0m         \u001b[0;31m# a helpful message (b/110263146)\u001b[0m\u001b[0;34m\u001b[0m\u001b[0;34m\u001b[0m\u001b[0;34m\u001b[0m\u001b[0m\n\u001b[1;32m   1313\u001b[0m         raise _wrap_restore_error_with_msg(\n\u001b[0;32m-> 1314\u001b[0;31m             err, \"a Variable name or other graph key that is missing\")\n\u001b[0m\u001b[1;32m   1315\u001b[0m \u001b[0;34m\u001b[0m\u001b[0m\n\u001b[1;32m   1316\u001b[0m       \u001b[0;31m# This is an object-based checkpoint. We'll print a warning and then do\u001b[0m\u001b[0;34m\u001b[0m\u001b[0;34m\u001b[0m\u001b[0;34m\u001b[0m\u001b[0m\n",
            "\u001b[0;31mNotFoundError\u001b[0m: Restoring from checkpoint failed. This is most likely due to a Variable name or other graph key that is missing from the checkpoint. Please ensure that you have not altered the graph expected based on the checkpoint. Original error:\n\n2 root error(s) found.\n  (0) Not found: Key beta1_power_4 not found in checkpoint\n\t [[node save_5/RestoreV2 (defined at /usr/local/lib/python3.7/dist-packages/deepxde/model.py:206) ]]\n  (1) Not found: Key beta1_power_4 not found in checkpoint\n\t [[node save_5/RestoreV2 (defined at /usr/local/lib/python3.7/dist-packages/deepxde/model.py:206) ]]\n\t [[save_5/RestoreV2/_171]]\n0 successful operations.\n0 derived errors ignored.\n\nOriginal stack trace for 'save_5/RestoreV2':\n  File \"/usr/lib/python3.7/runpy.py\", line 193, in _run_module_as_main\n    \"__main__\", mod_spec)\n  File \"/usr/lib/python3.7/runpy.py\", line 85, in _run_code\n    exec(code, run_globals)\n  File \"/usr/local/lib/python3.7/dist-packages/ipykernel_launcher.py\", line 16, in <module>\n    app.launch_new_instance()\n  File \"/usr/local/lib/python3.7/dist-packages/traitlets/config/application.py\", line 845, in launch_instance\n    app.start()\n  File \"/usr/local/lib/python3.7/dist-packages/ipykernel/kernelapp.py\", line 499, in start\n    self.io_loop.start()\n  File \"/usr/local/lib/python3.7/dist-packages/tornado/platform/asyncio.py\", line 132, in start\n    self.asyncio_loop.run_forever()\n  File \"/usr/lib/python3.7/asyncio/base_events.py\", line 541, in run_forever\n    self._run_once()\n  File \"/usr/lib/python3.7/asyncio/base_events.py\", line 1786, in _run_once\n    handle._run()\n  File \"/usr/lib/python3.7/asyncio/events.py\", line 88, in _run\n    self._context.run(self._callback, *self._args)\n  File \"/usr/local/lib/python3.7/dist-packages/tornado/platform/asyncio.py\", line 122, in _handle_events\n    handler_func(fileobj, events)\n  File \"/usr/local/lib/python3.7/dist-packages/tornado/stack_context.py\", line 300, in null_wrapper\n    return fn(*args, **kwargs)\n  File \"/usr/local/lib/python3.7/dist-packages/zmq/eventloop/zmqstream.py\", line 451, in _handle_events\n    self._handle_recv()\n  File \"/usr/local/lib/python3.7/dist-packages/zmq/eventloop/zmqstream.py\", line 480, in _handle_recv\n    self._run_callback(callback, msg)\n  File \"/usr/local/lib/python3.7/dist-packages/zmq/eventloop/zmqstream.py\", line 434, in _run_callback\n    callback(*args, **kwargs)\n  File \"/usr/local/lib/python3.7/dist-packages/tornado/stack_context.py\", line 300, in null_wrapper\n    return fn(*args, **kwargs)\n  File \"/usr/local/lib/python3.7/dist-packages/ipykernel/kernelbase.py\", line 283, in dispatcher\n    return self.dispatch_shell(stream, msg)\n  File \"/usr/local/lib/python3.7/dist-packages/ipykernel/kernelbase.py\", line 233, in dispatch_shell\n    handler(stream, idents, msg)\n  File \"/usr/local/lib/python3.7/dist-packages/ipykernel/kernelbase.py\", line 399, in execute_request\n    user_expressions, allow_stdin)\n  File \"/usr/local/lib/python3.7/dist-packages/ipykernel/ipkernel.py\", line 208, in do_execute\n    res = shell.run_cell(code, store_history=store_history, silent=silent)\n  File \"/usr/local/lib/python3.7/dist-packages/ipykernel/zmqshell.py\", line 537, in run_cell\n    return super(ZMQInteractiveShell, self).run_cell(*args, **kwargs)\n  File \"/usr/local/lib/python3.7/dist-packages/IPython/core/interactiveshell.py\", line 2718, in run_cell\n    interactivity=interactivity, compiler=compiler, result=result)\n  File \"/usr/local/lib/python3.7/dist-packages/IPython/core/interactiveshell.py\", line 2822, in run_ast_nodes\n    if self.run_code(code, result):\n  File \"/usr/local/lib/python3.7/dist-packages/IPython/core/interactiveshell.py\", line 2882, in run_code\n    exec(code_obj, self.user_global_ns, self.user_ns)\n  File \"<ipython-input-45-8359eaea2a81>\", line 27, in <module>\n    model.compile(\"adam\", lr=0.001,metrics=[\"l2 relative error\"])\n  File \"/usr/local/lib/python3.7/dist-packages/deepxde/utils.py\", line 52, in wrapper\n    result = f(*args, **kwargs)\n  File \"/usr/local/lib/python3.7/dist-packages/deepxde/model.py\", line 82, in compile\n    self._open_tfsession()\n  File \"/usr/local/lib/python3.7/dist-packages/deepxde/model.py\", line 206, in _open_tfsession\n    self.saver = tf.train.Saver(max_to_keep=None)\n  File \"/usr/local/lib/python3.7/dist-packages/tensorflow/python/training/saver.py\", line 835, in __init__\n    self.build()\n  File \"/usr/local/lib/python3.7/dist-packages/tensorflow/python/training/saver.py\", line 847, in build\n    self._build(self._filename, build_save=True, build_restore=True)\n  File \"/usr/local/lib/python3.7/dist-packages/tensorflow/python/training/saver.py\", line 885, in _build\n    build_restore=build_restore)\n  File \"/usr/local/lib/python3.7/dist-packages/tensorflow/python/training/saver.py\", line 515, in _build_internal\n    restore_sequentially, reshape)\n  File \"/usr/local/lib/python3.7/dist-packages/tensorflow/python/training/saver.py\", line 335, in _AddRestoreOps\n    restore_sequentially)\n  File \"/usr/local/lib/python3.7/dist-packages/tensorflow/python/training/saver.py\", line 582, in bulk_restore\n    return io_ops.restore_v2(filename_tensor, names, slices, dtypes)\n  File \"/usr/local/lib/python3.7/dist-packages/tensorflow/python/ops/gen_io_ops.py\", line 1511, in restore_v2\n    name=name)\n  File \"/usr/local/lib/python3.7/dist-packages/tensorflow/python/framework/op_def_library.py\", line 750, in _apply_op_helper\n    attrs=attr_protos, op_def=op_def)\n  File \"/usr/local/lib/python3.7/dist-packages/tensorflow/python/framework/ops.py\", line 3536, in _create_op_internal\n    op_def=op_def)\n  File \"/usr/local/lib/python3.7/dist-packages/tensorflow/python/framework/ops.py\", line 1990, in __init__\n    self._traceback = tf_stack.extract_stack()\n"
          ]
        }
      ]
    },
    {
      "cell_type": "markdown",
      "metadata": {
        "id": "5rXsv_x_yEEf"
      },
      "source": [
        "**Finding Boundary**"
      ]
    },
    {
      "cell_type": "code",
      "metadata": {
        "id": "3lUdRCVbwcwA"
      },
      "source": [
        "import deepxde as dde\r\n",
        "def func(x):\r\n",
        "  return np.full((len(x), 1), 10e-2)\r\n",
        "geom = dde.geometry.geometry_2d.Rectangle((1,1), (41,41))\r\n",
        "#geom = dde.geometry.geometry_2d.Polygon([(0, 0), (0, 40), (41, 41), (41, 0)])\r\n",
        "timedomain = dde.geometry.TimeDomain(0, 0.01) \r\n",
        "geomtime = dde.geometry.GeometryXTime(geom, timedomain)\r\n",
        "# bc = PointSetBC(train_x, train_y)\r\n",
        "bc = dde.DirichletBC(geomtime, funcbc, lambda _, on_boundary: on_boundary)\r\n",
        "# bc = dde.boundary_conditions.PointSet(train_x)"
      ],
      "execution_count": null,
      "outputs": []
    },
    {
      "cell_type": "code",
      "metadata": {
        "id": "Cnvc-87Mr80c"
      },
      "source": [
        "boundary = bc.collocation_points(train_x)\r\n",
        "temps_on_boundary = np.zeros((len(boundary), 1))\r\n",
        "for i in range(len(boundary)):\r\n",
        "  temps_on_boundary[i] = map_dict[(boundary[i][0], boundary[i][1], boundary[i][2])] \r\n",
        "all_boundary = np.concatenate((boundary, temps_on_boundary), axis = 1)"
      ],
      "execution_count": null,
      "outputs": []
    },
    {
      "cell_type": "markdown",
      "metadata": {
        "id": "iGvxQtEex7WD"
      },
      "source": [
        "**Plotting Boundary**"
      ]
    },
    {
      "cell_type": "code",
      "metadata": {
        "id": "A7lIO0DMSydX",
        "colab": {
          "base_uri": "https://localhost:8080/"
        },
        "outputId": "25d7e725-fec3-4f98-cfff-728eac89b2b7"
      },
      "source": [
        "all_boundary.shape"
      ],
      "execution_count": null,
      "outputs": [
        {
          "output_type": "execute_result",
          "data": {
            "text/plain": [
              "(103, 4)"
            ]
          },
          "metadata": {
            "tags": []
          },
          "execution_count": 20
        }
      ]
    },
    {
      "cell_type": "code",
      "metadata": {
        "colab": {
          "base_uri": "https://localhost:8080/",
          "height": 283
        },
        "id": "UQZA1lY0xMc-",
        "outputId": "c9fc91ca-6489-414f-e5ee-eef30d1a537b"
      },
      "source": [
        "import matplotlib.pyplot as plt\r\n",
        "plt.scatter(all_boundary[:,0], all_boundary[:,1]) "
      ],
      "execution_count": null,
      "outputs": [
        {
          "output_type": "execute_result",
          "data": {
            "text/plain": [
              "<matplotlib.collections.PathCollection at 0x7f3cb3aef3c8>"
            ]
          },
          "metadata": {
            "tags": []
          },
          "execution_count": 25
        },
        {
          "output_type": "display_data",
          "data": {
            "image/png": "[encoded data removed]",
            "text/plain": [
              "<Figure size 432x288 with 1 Axes>"
            ]
          },
          "metadata": {
            "tags": [],
            "needs_background": "light"
          }
        }
      ]
    },
    {
      "cell_type": "code",
      "metadata": {
        "colab": {
          "base_uri": "https://localhost:8080/"
        },
        "id": "dFgWnQfbwIy4",
        "outputId": "efe08fda-feb7-4288-e76c-af370acbc683"
      },
      "source": [
        "preds = []\r\n",
        "for i in range(4):\r\n",
        "  preds.append(models[i].predict(all_[i][0:train_number]))"
      ],
      "execution_count": null,
      "outputs": [
        {
          "output_type": "stream",
          "text": [
            "Predicting...\n",
            "'predict' took 0.003094 s\n",
            "\n",
            "Predicting...\n",
            "'predict' took 0.001499 s\n",
            "\n",
            "Predicting...\n",
            "'predict' took 0.001878 s\n",
            "\n",
            "Predicting...\n",
            "'predict' took 0.002430 s\n",
            "\n"
          ],
          "name": "stdout"
        }
      ]
    },
    {
      "cell_type": "code",
      "metadata": {
        "colab": {
          "base_uri": "https://localhost:8080/"
        },
        "id": "0TxnxmSDzWYr",
        "outputId": "9b342c69-2490-42da-b419-02b2a141b9a6"
      },
      "source": [
        "for i in range(0,100,10):\r\n",
        "  print(preds[0][i], preds[1][i], preds[2][i], preds[3][i])\r\n",
        "\r\n",
        "for i in range (0,100,10):\r\n",
        "  print(new_temps[i][0], new_temps[i][1], new_temps[i][2], new_temps[i][3])"
      ],
      "execution_count": null,
      "outputs": [
        {
          "output_type": "stream",
          "text": [
            "[131.15099] [155.87271] [184.12894] [211.76712]\n",
            "[89.55112] [103.03893] [120.36405] [140.55019]\n",
            "[47.40793] [50.595066] [55.093075] [59.437386]\n",
            "[32.00198] [32.76735] [34.17421] [34.982567]\n",
            "[27.25179] [27.220947] [27.79419] [27.86342]\n",
            "[90.84437] [101.65908] [117.69956] [136.63876]\n",
            "[46.59127] [51.73194] [55.529324] [58.994865]\n",
            "[31.909922] [33.52157] [34.668415] [35.26596]\n",
            "[27.395452] [27.647766] [28.29252] [28.215076]\n",
            "[92.2075] [100.12134] [115.07281] [132.86615]\n",
            "133.85 162.48 199.26 246.52\n",
            "89.171 103.05 119.98 140.61\n",
            "46.981 50.574 54.697 59.412\n",
            "31.797 32.732 33.778 34.946\n",
            "27.091 27.35 27.636 27.952\n",
            "94.289 109.5 128.09 150.76\n",
            "49.558 53.659 58.382 63.802\n",
            "32.632 33.695 34.888 36.221\n",
            "27.348 27.641 27.965 28.323\n",
            "98.036 114.14 133.79 157.71\n"
          ],
          "name": "stdout"
        }
      ]
    },
    {
      "cell_type": "code",
      "metadata": {
        "colab": {
          "base_uri": "https://localhost:8080/",
          "height": 265
        },
        "id": "yM_fqdh0wxUl",
        "outputId": "f05ea9de-673b-4e7c-e401-a75b4c6c39c0"
      },
      "source": [
        "times = [i for i in range(4)]\r\n",
        "predictions = []\r\n",
        "actuals = []\r\n",
        "point_number = 10\r\n",
        "for i in range(4):\r\n",
        "  predictions.append(preds[i][point_number])\r\n",
        "  actuals.append(new_temps[point_number][i])\r\n",
        "\r\n",
        "fig, ax = plt.subplots()\r\n",
        "ax.plot(times, predictions)\r\n",
        "ax.plot(times, actuals)\r\n",
        "plt.grid()"
      ],
      "execution_count": null,
      "outputs": [
        {
          "output_type": "display_data",
          "data": {
            "image/png": "[encoded data removed]",
            "text/plain": [
              "<Figure size 432x288 with 1 Axes>"
            ]
          },
          "metadata": {
            "tags": [],
            "needs_background": "light"
          }
        }
      ]
    }
  ]
}